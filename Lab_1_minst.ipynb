{
  "cells": [
    {
      "cell_type": "markdown",
      "metadata": {
        "id": "view-in-github",
        "colab_type": "text"
      },
      "source": [
        "<a href=\"https://colab.research.google.com/github/Aartizikre150/DAb300/blob/main/Lab_1_minst.ipynb\" target=\"_parent\"><img src=\"https://colab.research.google.com/assets/colab-badge.svg\" alt=\"Open In Colab\"/></a>"
      ]
    },
    {
      "cell_type": "markdown",
      "metadata": {
        "tags": [],
        "id": "f0VqqheB9gLA"
      },
      "source": [
        "# Lab 1: Keras and MNIST (35 Marks)\n",
        "\n",
        "**This is a modified version of the original notebook by Francois Chollet.**"
      ]
    },
    {
      "cell_type": "markdown",
      "source": [
        "## **Group - Num**\n",
        "*   Aarti Anil Zikre - 825897\n",
        "*   Andrews Truman - 824852\n",
        "*   Premkumar Janakbhai Patel - 829257\n",
        "*   Vitthlesh Sheth - 825950\n",
        "\n",
        "\n",
        "\n"
      ],
      "metadata": {
        "id": "wQ9XZcBc_3Fz"
      }
    },
    {
      "cell_type": "code",
      "source": [
        "!pip install tensorflow"
      ],
      "metadata": {
        "colab": {
          "base_uri": "https://localhost:8080/"
        },
        "id": "en0Wxb2o1Baw",
        "outputId": "49da5289-edfc-4e97-fb54-b4c20448ecb3"
      },
      "execution_count": null,
      "outputs": [
        {
          "output_type": "stream",
          "name": "stdout",
          "text": [
            "Requirement already satisfied: tensorflow in /usr/local/lib/python3.10/dist-packages (2.13.0)\n",
            "Requirement already satisfied: absl-py>=1.0.0 in /usr/local/lib/python3.10/dist-packages (from tensorflow) (1.4.0)\n",
            "Requirement already satisfied: astunparse>=1.6.0 in /usr/local/lib/python3.10/dist-packages (from tensorflow) (1.6.3)\n",
            "Requirement already satisfied: flatbuffers>=23.1.21 in /usr/local/lib/python3.10/dist-packages (from tensorflow) (23.5.26)\n",
            "Requirement already satisfied: gast<=0.4.0,>=0.2.1 in /usr/local/lib/python3.10/dist-packages (from tensorflow) (0.4.0)\n",
            "Requirement already satisfied: google-pasta>=0.1.1 in /usr/local/lib/python3.10/dist-packages (from tensorflow) (0.2.0)\n",
            "Requirement already satisfied: grpcio<2.0,>=1.24.3 in /usr/local/lib/python3.10/dist-packages (from tensorflow) (1.57.0)\n",
            "Requirement already satisfied: h5py>=2.9.0 in /usr/local/lib/python3.10/dist-packages (from tensorflow) (3.9.0)\n",
            "Requirement already satisfied: keras<2.14,>=2.13.1 in /usr/local/lib/python3.10/dist-packages (from tensorflow) (2.13.1)\n",
            "Requirement already satisfied: libclang>=13.0.0 in /usr/local/lib/python3.10/dist-packages (from tensorflow) (16.0.6)\n",
            "Requirement already satisfied: numpy<=1.24.3,>=1.22 in /usr/local/lib/python3.10/dist-packages (from tensorflow) (1.23.5)\n",
            "Requirement already satisfied: opt-einsum>=2.3.2 in /usr/local/lib/python3.10/dist-packages (from tensorflow) (3.3.0)\n",
            "Requirement already satisfied: packaging in /usr/local/lib/python3.10/dist-packages (from tensorflow) (23.1)\n",
            "Requirement already satisfied: protobuf!=4.21.0,!=4.21.1,!=4.21.2,!=4.21.3,!=4.21.4,!=4.21.5,<5.0.0dev,>=3.20.3 in /usr/local/lib/python3.10/dist-packages (from tensorflow) (3.20.3)\n",
            "Requirement already satisfied: setuptools in /usr/local/lib/python3.10/dist-packages (from tensorflow) (67.7.2)\n",
            "Requirement already satisfied: six>=1.12.0 in /usr/local/lib/python3.10/dist-packages (from tensorflow) (1.16.0)\n",
            "Requirement already satisfied: tensorboard<2.14,>=2.13 in /usr/local/lib/python3.10/dist-packages (from tensorflow) (2.13.0)\n",
            "Requirement already satisfied: tensorflow-estimator<2.14,>=2.13.0 in /usr/local/lib/python3.10/dist-packages (from tensorflow) (2.13.0)\n",
            "Requirement already satisfied: termcolor>=1.1.0 in /usr/local/lib/python3.10/dist-packages (from tensorflow) (2.3.0)\n",
            "Requirement already satisfied: typing-extensions<4.6.0,>=3.6.6 in /usr/local/lib/python3.10/dist-packages (from tensorflow) (4.5.0)\n",
            "Requirement already satisfied: wrapt>=1.11.0 in /usr/local/lib/python3.10/dist-packages (from tensorflow) (1.15.0)\n",
            "Requirement already satisfied: tensorflow-io-gcs-filesystem>=0.23.1 in /usr/local/lib/python3.10/dist-packages (from tensorflow) (0.33.0)\n",
            "Requirement already satisfied: wheel<1.0,>=0.23.0 in /usr/local/lib/python3.10/dist-packages (from astunparse>=1.6.0->tensorflow) (0.41.2)\n",
            "Requirement already satisfied: google-auth<3,>=1.6.3 in /usr/local/lib/python3.10/dist-packages (from tensorboard<2.14,>=2.13->tensorflow) (2.17.3)\n",
            "Requirement already satisfied: google-auth-oauthlib<1.1,>=0.5 in /usr/local/lib/python3.10/dist-packages (from tensorboard<2.14,>=2.13->tensorflow) (1.0.0)\n",
            "Requirement already satisfied: markdown>=2.6.8 in /usr/local/lib/python3.10/dist-packages (from tensorboard<2.14,>=2.13->tensorflow) (3.4.4)\n",
            "Requirement already satisfied: requests<3,>=2.21.0 in /usr/local/lib/python3.10/dist-packages (from tensorboard<2.14,>=2.13->tensorflow) (2.31.0)\n",
            "Requirement already satisfied: tensorboard-data-server<0.8.0,>=0.7.0 in /usr/local/lib/python3.10/dist-packages (from tensorboard<2.14,>=2.13->tensorflow) (0.7.1)\n",
            "Requirement already satisfied: werkzeug>=1.0.1 in /usr/local/lib/python3.10/dist-packages (from tensorboard<2.14,>=2.13->tensorflow) (2.3.7)\n",
            "Requirement already satisfied: cachetools<6.0,>=2.0.0 in /usr/local/lib/python3.10/dist-packages (from google-auth<3,>=1.6.3->tensorboard<2.14,>=2.13->tensorflow) (5.3.1)\n",
            "Requirement already satisfied: pyasn1-modules>=0.2.1 in /usr/local/lib/python3.10/dist-packages (from google-auth<3,>=1.6.3->tensorboard<2.14,>=2.13->tensorflow) (0.3.0)\n",
            "Requirement already satisfied: rsa<5,>=3.1.4 in /usr/local/lib/python3.10/dist-packages (from google-auth<3,>=1.6.3->tensorboard<2.14,>=2.13->tensorflow) (4.9)\n",
            "Requirement already satisfied: requests-oauthlib>=0.7.0 in /usr/local/lib/python3.10/dist-packages (from google-auth-oauthlib<1.1,>=0.5->tensorboard<2.14,>=2.13->tensorflow) (1.3.1)\n",
            "Requirement already satisfied: charset-normalizer<4,>=2 in /usr/local/lib/python3.10/dist-packages (from requests<3,>=2.21.0->tensorboard<2.14,>=2.13->tensorflow) (3.2.0)\n",
            "Requirement already satisfied: idna<4,>=2.5 in /usr/local/lib/python3.10/dist-packages (from requests<3,>=2.21.0->tensorboard<2.14,>=2.13->tensorflow) (3.4)\n",
            "Requirement already satisfied: urllib3<3,>=1.21.1 in /usr/local/lib/python3.10/dist-packages (from requests<3,>=2.21.0->tensorboard<2.14,>=2.13->tensorflow) (2.0.4)\n",
            "Requirement already satisfied: certifi>=2017.4.17 in /usr/local/lib/python3.10/dist-packages (from requests<3,>=2.21.0->tensorboard<2.14,>=2.13->tensorflow) (2023.7.22)\n",
            "Requirement already satisfied: MarkupSafe>=2.1.1 in /usr/local/lib/python3.10/dist-packages (from werkzeug>=1.0.1->tensorboard<2.14,>=2.13->tensorflow) (2.1.3)\n",
            "Requirement already satisfied: pyasn1<0.6.0,>=0.4.6 in /usr/local/lib/python3.10/dist-packages (from pyasn1-modules>=0.2.1->google-auth<3,>=1.6.3->tensorboard<2.14,>=2.13->tensorflow) (0.5.0)\n",
            "Requirement already satisfied: oauthlib>=3.0.0 in /usr/local/lib/python3.10/dist-packages (from requests-oauthlib>=0.7.0->google-auth-oauthlib<1.1,>=0.5->tensorboard<2.14,>=2.13->tensorflow) (3.2.2)\n"
          ]
        }
      ]
    },
    {
      "cell_type": "markdown",
      "metadata": {
        "tags": [],
        "id": "xGg5n-GT9gLB"
      },
      "source": [
        "## Objectives\n",
        "\n",
        "By the end of this lab, you should be able to:\n",
        " - explain the role of train, validation, and test sets and understand why the tutorial is  only using train and test\n",
        " - explain the tensor (data) shapes of (28, 28), (60000, 28, 28), (784,), and (60000, 784); what they mean and where they come from\n",
        " - explain one-hot encoding of the label data\n",
        " - sketch (on paper) the architecture/structure of the model being used\n",
        " - calculate by hand how many parameters (weights and biases) the network is using  \n",
        " - understand the output of model.summary() and use to verify the parameter calculation done above\n",
        " - explain why this neural network has 10 output neurons\n",
        " - provide basic explanations for the terms *optimizer*, *loss*, and *metric*\n",
        " - explain what an *epoch* is\n",
        " - explain what is meant by *batch size* and how it is connected to model learning\n",
        " - explain the difference between training a network and testing a network\n",
        " - give a brief explanation of the softmax function and how it is being used"
      ]
    },
    {
      "cell_type": "markdown",
      "metadata": {
        "id": "ucstVChn9gLC"
      },
      "source": [
        "We will now take a look at a first concrete example of a neural network, which makes use of the Python library Keras to learn to classify hand-written digits. Unless you already have experience with Keras or similar libraries, you will not understand everything about this first example right away. Don't worry, that is perfectly fine. We've got to start somewhere.\n",
        "\n",
        "The problem we are trying to solve here is to classify grayscale images of handwritten digits (28 pixels by 28 pixels), into their 10 categories (0 to 9). The dataset we will use is the MNIST dataset, a classic dataset in the machine learning community, which has been around for almost as long as the field itself and has been very intensively studied. It's a set of 60,000 training images, plus 10,000 test images, assembled by the National Institute of Standards and Technology (the NIST in MNIST) in the 1980s. You can think of \"solving\" MNIST as the \"Hello World\" of deep learning -- it's what you do to verify that your algorithms are working as expected. As you become a machine learning practitioner, you will see MNIST come up over and over again, in scientific papers, blog posts, and so on.\n",
        "\n",
        "The MNIST dataset comes pre-loaded in Keras, in the form of a set of four Numpy arrays:"
      ]
    },
    {
      "cell_type": "code",
      "execution_count": null,
      "metadata": {
        "id": "ZSZVkKih9gLD",
        "colab": {
          "base_uri": "https://localhost:8080/"
        },
        "outputId": "e3e0be04-2193-419e-c7a6-5776abdfd162"
      },
      "outputs": [
        {
          "output_type": "stream",
          "name": "stdout",
          "text": [
            "Downloading data from https://storage.googleapis.com/tensorflow/tf-keras-datasets/mnist.npz\n",
            "11490434/11490434 [==============================] - 0s 0us/step\n"
          ]
        }
      ],
      "source": [
        "from tensorflow.keras.datasets import mnist\n",
        "\n",
        "(train_images, train_labels), (test_images, test_labels) = mnist.load_data()"
      ]
    },
    {
      "cell_type": "markdown",
      "metadata": {
        "id": "5lfCgDDl9gLD"
      },
      "source": [
        "`train_images` and `train_labels` form the \"training set\", the data that the model will learn from. The model will then be tested on the\n",
        "\"test set\", `test_images` and `test_labels`. Our images are encoded as Numpy arrays, and the labels are simply an array of digits, ranging\n",
        "from 0 to 9. There is a one-to-one correspondence between the images and the labels.\n",
        "\n",
        "Let's have a look at the training data:"
      ]
    },
    {
      "cell_type": "code",
      "execution_count": null,
      "metadata": {
        "id": "6HU3YL6t9gLE",
        "outputId": "6fe992d2-e412-4659-803f-6da95fd96345",
        "colab": {
          "base_uri": "https://localhost:8080/",
          "height": 448
        }
      },
      "outputs": [
        {
          "output_type": "execute_result",
          "data": {
            "text/plain": [
              "<matplotlib.image.AxesImage at 0x7c5fc2fba350>"
            ]
          },
          "metadata": {},
          "execution_count": 4
        },
        {
          "output_type": "display_data",
          "data": {
            "text/plain": [
              "<Figure size 640x480 with 1 Axes>"
            ],
            "image/png": "[encoded data removed]"
          },
          "metadata": {}
        }
      ],
      "source": [
        "import matplotlib.pyplot as plt\n",
        "\n",
        "plt.imshow(train_images[0], cmap='gray')"
      ]
    },
    {
      "cell_type": "code",
      "execution_count": null,
      "metadata": {
        "id": "2iajyGuX9gLE",
        "outputId": "c3a518c6-57f7-488e-8904-5f7df1e3f234",
        "colab": {
          "base_uri": "https://localhost:8080/"
        }
      },
      "outputs": [
        {
          "output_type": "execute_result",
          "data": {
            "text/plain": [
              "(60000, 28, 28)"
            ]
          },
          "metadata": {},
          "execution_count": 5
        }
      ],
      "source": [
        "train_images.shape"
      ]
    },
    {
      "cell_type": "code",
      "execution_count": null,
      "metadata": {
        "id": "OgU44CCY9gLF",
        "outputId": "22cb9075-f5e3-4b38-9d44-1e75d0e1da3e",
        "colab": {
          "base_uri": "https://localhost:8080/"
        }
      },
      "outputs": [
        {
          "output_type": "execute_result",
          "data": {
            "text/plain": [
              "array([[  0,   0,   0,   0,   0,   0,   0,   0,   0,   0,   0,   0,   0,\n",
              "          0,   0,   0,   0,   0,   0,   0,   0,   0,   0,   0,   0,   0,\n",
              "          0,   0],\n",
              "       [  0,   0,   0,   0,   0,   0,   0,   0,   0,   0,   0,   0,   0,\n",
              "          0,   0,   0,   0,   0,   0,   0,   0,   0,   0,   0,   0,   0,\n",
              "          0,   0],\n",
              "       [  0,   0,   0,   0,   0,   0,   0,   0,   0,   0,   0,   0,   0,\n",
              "          0,   0,   0,   0,   0,   0,   0,   0,   0,   0,   0,   0,   0,\n",
              "          0,   0],\n",
              "       [  0,   0,   0,   0,   0,   0,   0,   0,   0,   0,   0,   0,   0,\n",
              "          0,   0,   0,   0,   0,   0,   0,   0,   0,   0,   0,   0,   0,\n",
              "          0,   0],\n",
              "       [  0,   0,   0,   0,   0,   0,   0,   0,   0,   0,   0,   0,   0,\n",
              "          0,   0,   0,   0,   0,   0,   0,   0,   0,   0,   0,   0,   0,\n",
              "          0,   0],\n",
              "       [  0,   0,   0,   0,   0,   0,   0,   0,   0,   0,   0,   0,   3,\n",
              "         18,  18,  18, 126, 136, 175,  26, 166, 255, 247, 127,   0,   0,\n",
              "          0,   0],\n",
              "       [  0,   0,   0,   0,   0,   0,   0,   0,  30,  36,  94, 154, 170,\n",
              "        253, 253, 253, 253, 253, 225, 172, 253, 242, 195,  64,   0,   0,\n",
              "          0,   0],\n",
              "       [  0,   0,   0,   0,   0,   0,   0,  49, 238, 253, 253, 253, 253,\n",
              "        253, 253, 253, 253, 251,  93,  82,  82,  56,  39,   0,   0,   0,\n",
              "          0,   0],\n",
              "       [  0,   0,   0,   0,   0,   0,   0,  18, 219, 253, 253, 253, 253,\n",
              "        253, 198, 182, 247, 241,   0,   0,   0,   0,   0,   0,   0,   0,\n",
              "          0,   0],\n",
              "       [  0,   0,   0,   0,   0,   0,   0,   0,  80, 156, 107, 253, 253,\n",
              "        205,  11,   0,  43, 154,   0,   0,   0,   0,   0,   0,   0,   0,\n",
              "          0,   0],\n",
              "       [  0,   0,   0,   0,   0,   0,   0,   0,   0,  14,   1, 154, 253,\n",
              "         90,   0,   0,   0,   0,   0,   0,   0,   0,   0,   0,   0,   0,\n",
              "          0,   0],\n",
              "       [  0,   0,   0,   0,   0,   0,   0,   0,   0,   0,   0, 139, 253,\n",
              "        190,   2,   0,   0,   0,   0,   0,   0,   0,   0,   0,   0,   0,\n",
              "          0,   0],\n",
              "       [  0,   0,   0,   0,   0,   0,   0,   0,   0,   0,   0,  11, 190,\n",
              "        253,  70,   0,   0,   0,   0,   0,   0,   0,   0,   0,   0,   0,\n",
              "          0,   0],\n",
              "       [  0,   0,   0,   0,   0,   0,   0,   0,   0,   0,   0,   0,  35,\n",
              "        241, 225, 160, 108,   1,   0,   0,   0,   0,   0,   0,   0,   0,\n",
              "          0,   0],\n",
              "       [  0,   0,   0,   0,   0,   0,   0,   0,   0,   0,   0,   0,   0,\n",
              "         81, 240, 253, 253, 119,  25,   0,   0,   0,   0,   0,   0,   0,\n",
              "          0,   0],\n",
              "       [  0,   0,   0,   0,   0,   0,   0,   0,   0,   0,   0,   0,   0,\n",
              "          0,  45, 186, 253, 253, 150,  27,   0,   0,   0,   0,   0,   0,\n",
              "          0,   0],\n",
              "       [  0,   0,   0,   0,   0,   0,   0,   0,   0,   0,   0,   0,   0,\n",
              "          0,   0,  16,  93, 252, 253, 187,   0,   0,   0,   0,   0,   0,\n",
              "          0,   0],\n",
              "       [  0,   0,   0,   0,   0,   0,   0,   0,   0,   0,   0,   0,   0,\n",
              "          0,   0,   0,   0, 249, 253, 249,  64,   0,   0,   0,   0,   0,\n",
              "          0,   0],\n",
              "       [  0,   0,   0,   0,   0,   0,   0,   0,   0,   0,   0,   0,   0,\n",
              "          0,  46, 130, 183, 253, 253, 207,   2,   0,   0,   0,   0,   0,\n",
              "          0,   0],\n",
              "       [  0,   0,   0,   0,   0,   0,   0,   0,   0,   0,   0,   0,  39,\n",
              "        148, 229, 253, 253, 253, 250, 182,   0,   0,   0,   0,   0,   0,\n",
              "          0,   0],\n",
              "       [  0,   0,   0,   0,   0,   0,   0,   0,   0,   0,  24, 114, 221,\n",
              "        253, 253, 253, 253, 201,  78,   0,   0,   0,   0,   0,   0,   0,\n",
              "          0,   0],\n",
              "       [  0,   0,   0,   0,   0,   0,   0,   0,  23,  66, 213, 253, 253,\n",
              "        253, 253, 198,  81,   2,   0,   0,   0,   0,   0,   0,   0,   0,\n",
              "          0,   0],\n",
              "       [  0,   0,   0,   0,   0,   0,  18, 171, 219, 253, 253, 253, 253,\n",
              "        195,  80,   9,   0,   0,   0,   0,   0,   0,   0,   0,   0,   0,\n",
              "          0,   0],\n",
              "       [  0,   0,   0,   0,  55, 172, 226, 253, 253, 253, 253, 244, 133,\n",
              "         11,   0,   0,   0,   0,   0,   0,   0,   0,   0,   0,   0,   0,\n",
              "          0,   0],\n",
              "       [  0,   0,   0,   0, 136, 253, 253, 253, 212, 135, 132,  16,   0,\n",
              "          0,   0,   0,   0,   0,   0,   0,   0,   0,   0,   0,   0,   0,\n",
              "          0,   0],\n",
              "       [  0,   0,   0,   0,   0,   0,   0,   0,   0,   0,   0,   0,   0,\n",
              "          0,   0,   0,   0,   0,   0,   0,   0,   0,   0,   0,   0,   0,\n",
              "          0,   0],\n",
              "       [  0,   0,   0,   0,   0,   0,   0,   0,   0,   0,   0,   0,   0,\n",
              "          0,   0,   0,   0,   0,   0,   0,   0,   0,   0,   0,   0,   0,\n",
              "          0,   0],\n",
              "       [  0,   0,   0,   0,   0,   0,   0,   0,   0,   0,   0,   0,   0,\n",
              "          0,   0,   0,   0,   0,   0,   0,   0,   0,   0,   0,   0,   0,\n",
              "          0,   0]], dtype=uint8)"
            ]
          },
          "metadata": {},
          "execution_count": 6
        }
      ],
      "source": [
        "train_images[0] # the first image"
      ]
    },
    {
      "cell_type": "code",
      "execution_count": null,
      "metadata": {
        "id": "lyZz9nSj9gLF",
        "outputId": "7c6e233e-c5a2-48bc-d312-2e29f684cdf6",
        "colab": {
          "base_uri": "https://localhost:8080/"
        }
      },
      "outputs": [
        {
          "output_type": "execute_result",
          "data": {
            "text/plain": [
              "(28, 28)"
            ]
          },
          "metadata": {},
          "execution_count": 7
        }
      ],
      "source": [
        "train_images[0].shape  # the shape of the first image"
      ]
    },
    {
      "cell_type": "code",
      "execution_count": null,
      "metadata": {
        "id": "Xhnk_quh9gLG",
        "outputId": "be453926-3ad1-4e9f-d098-1cb1aafefbf4",
        "colab": {
          "base_uri": "https://localhost:8080/"
        }
      },
      "outputs": [
        {
          "output_type": "execute_result",
          "data": {
            "text/plain": [
              "60000"
            ]
          },
          "metadata": {},
          "execution_count": 8
        }
      ],
      "source": [
        "len(train_labels)"
      ]
    },
    {
      "cell_type": "code",
      "execution_count": null,
      "metadata": {
        "id": "_6xoZQFV9gLG",
        "outputId": "a9a1d08d-21bc-40df-f2cf-e0a227ac152b",
        "colab": {
          "base_uri": "https://localhost:8080/"
        }
      },
      "outputs": [
        {
          "output_type": "execute_result",
          "data": {
            "text/plain": [
              "array([5, 0, 4, 1, 9, 2], dtype=uint8)"
            ]
          },
          "metadata": {},
          "execution_count": 9
        }
      ],
      "source": [
        "train_labels[:6] # first 5 labels"
      ]
    },
    {
      "cell_type": "markdown",
      "metadata": {
        "id": "MBwEurLo9gLG"
      },
      "source": [
        "Let's have a look at the test data:"
      ]
    },
    {
      "cell_type": "code",
      "execution_count": null,
      "metadata": {
        "id": "oCDkklDh9gLG",
        "outputId": "eef475d5-d2b5-4a49-efa8-800bb826be09",
        "colab": {
          "base_uri": "https://localhost:8080/"
        }
      },
      "outputs": [
        {
          "output_type": "execute_result",
          "data": {
            "text/plain": [
              "(10000, 28, 28)"
            ]
          },
          "metadata": {},
          "execution_count": 10
        }
      ],
      "source": [
        "test_images.shape"
      ]
    },
    {
      "cell_type": "code",
      "execution_count": null,
      "metadata": {
        "id": "SUDcU5Pm9gLH",
        "outputId": "01ee08cc-f3ba-40f9-d5e6-8d147f7d9c44",
        "colab": {
          "base_uri": "https://localhost:8080/"
        }
      },
      "outputs": [
        {
          "output_type": "execute_result",
          "data": {
            "text/plain": [
              "10000"
            ]
          },
          "metadata": {},
          "execution_count": 11
        }
      ],
      "source": [
        "len(test_labels)"
      ]
    },
    {
      "cell_type": "code",
      "execution_count": null,
      "metadata": {
        "id": "qPONQs6r9gLH",
        "outputId": "855eaa6e-e8b4-4fd1-e961-c6d26b9b3ed8",
        "colab": {
          "base_uri": "https://localhost:8080/"
        }
      },
      "outputs": [
        {
          "output_type": "execute_result",
          "data": {
            "text/plain": [
              "array([7, 2, 1, ..., 4, 5, 6], dtype=uint8)"
            ]
          },
          "metadata": {},
          "execution_count": 12
        }
      ],
      "source": [
        "test_labels"
      ]
    },
    {
      "cell_type": "markdown",
      "metadata": {
        "id": "romZJrKB9gLH"
      },
      "source": [
        "\n",
        "Before training, we will preprocess our data by reshaping it into the shape that the network expects, and scaling it so that all values are in\n",
        "the `[0, 1]` interval. Previously, our training images for instance were stored in an array of shape `(60000, 28, 28)` of type `uint8` with\n",
        "values in the `[0, 255]` interval. We transform it into a `float32` array of shape `(60000, 28 * 28)` with values between 0 and 1."
      ]
    },
    {
      "cell_type": "code",
      "execution_count": null,
      "metadata": {
        "id": "oSsUxCVJ9gLH"
      },
      "outputs": [],
      "source": [
        "train_images = train_images.astype('float32') / 255\n",
        "train_images = train_images.reshape((60000, 28 * 28))\n",
        "\n",
        "test_images = test_images.astype('float32') / 255\n",
        "test_images = test_images.reshape((10000, 28 * 28))"
      ]
    },
    {
      "cell_type": "markdown",
      "metadata": {
        "id": "_mLxIiNS9gLH"
      },
      "source": [
        "### Reshaping an image for the network\n",
        "\n",
        "The picture below shows the steps involved in converting a 10x10 pixel image into a 1 dimensional array that can be fed into a fully-connected neural network (assuming we do not scale the pixel values).\n",
        "\n",
        "<img src=\"Lab 1 - Pictures-2.jpg\" width=600 align=\"center\">\n",
        "\n",
        "And the picture below should help you visualize what things look like when we consider more than a single sample in our data:\n",
        "\n",
        "<img src=\"Lab 1 - Pictures-3.jpg\" width=600 align=\"center\">"
      ]
    },
    {
      "cell_type": "markdown",
      "metadata": {
        "id": "5GmCNX5N9gLH"
      },
      "source": [
        "We also need to categorically encode the labels:"
      ]
    },
    {
      "cell_type": "code",
      "execution_count": null,
      "metadata": {
        "id": "vMH8rHMz9gLH"
      },
      "outputs": [],
      "source": [
        "from tensorflow.keras.utils import to_categorical\n",
        "\n",
        "train_labels = to_categorical(train_labels)\n",
        "test_labels = to_categorical(test_labels)"
      ]
    },
    {
      "cell_type": "code",
      "execution_count": null,
      "metadata": {
        "id": "pUDeTSmk9gLH",
        "outputId": "77d11e69-0916-42f5-c2ec-18c8e6d404d9",
        "colab": {
          "base_uri": "https://localhost:8080/"
        }
      },
      "outputs": [
        {
          "output_type": "execute_result",
          "data": {
            "text/plain": [
              "array([[0., 0., 0., 0., 0., 1., 0., 0., 0., 0.],\n",
              "       [1., 0., 0., 0., 0., 0., 0., 0., 0., 0.],\n",
              "       [0., 0., 0., 0., 1., 0., 0., 0., 0., 0.],\n",
              "       [0., 1., 0., 0., 0., 0., 0., 0., 0., 0.],\n",
              "       [0., 0., 0., 0., 0., 0., 0., 0., 0., 1.]], dtype=float32)"
            ]
          },
          "metadata": {},
          "execution_count": 15
        }
      ],
      "source": [
        "train_labels[:5]"
      ]
    },
    {
      "cell_type": "markdown",
      "metadata": {
        "id": "uQRQ4slO9gLI"
      },
      "source": [
        "<img src=\"Lab 1 - Pictures-5.jpg\" width=600 align=\"center\">"
      ]
    },
    {
      "cell_type": "markdown",
      "metadata": {
        "id": "Uwnpsauo9gLI"
      },
      "source": [
        "Our workflow will be as follow: first we will present our neural network with the training data: `train_images` and `train_labels`. The\n",
        "network will then learn to associate images and labels. Finally, we will ask the network to produce predictions for `test_images`, and we\n",
        "will verify if these predictions match the labels from `test_labels`.\n",
        "\n",
        "## Build the network\n",
        "\n",
        "Let's build our network!"
      ]
    },
    {
      "cell_type": "code",
      "execution_count": null,
      "metadata": {
        "id": "YimnjWKP9gLI"
      },
      "outputs": [],
      "source": [
        "from tensorflow.keras.models import Sequential\n",
        "from tensorflow.keras.layers import Dense\n",
        "\n",
        "network = Sequential()\n",
        "network.add(Dense(512, activation='relu', input_shape=(28 * 28,)))\n",
        "network.add(Dense(10, activation='softmax'))"
      ]
    },
    {
      "cell_type": "markdown",
      "metadata": {
        "id": "240Kd4Mi9gLI"
      },
      "source": [
        "The core building block of neural networks is the \"layer\", a data-processing module which you can conceive as a \"filter\" for data. Some data comes in, and comes out in a more useful form. Precisely, layers extract _representations_ out of the data fed into them -- hopefully representations that are more meaningful for the problem at hand. Most of deep learning really consists of chaining together simple layers which will implement a form of progressive \"data distillation\". A deep learning model is like a sieve for data processing, made of a\n",
        "succession of increasingly refined data filters -- the \"layers\".\n",
        "\n",
        "Here our network consists of a sequence of two `Dense` layers, which are densely-connected (also called \"fully-connected\") neural layers. The second (and last) layer is a 10-way \"softmax\" layer, which means it will return an array of 10 probability scores (summing to 1). Each score will be the probability that the current digit image belongs to one of our 10 digit classes. See this [blog post](https://victorzhou.com/blog/softmax/) for more details on the softmax function. The following picture may help you see what is happening:\n",
        "\n",
        "<img src=\"Lab 1 - Pictures-4.jpg\" width=600 align=\"center\">"
      ]
    },
    {
      "cell_type": "markdown",
      "metadata": {
        "id": "4G78FKGl9gLI"
      },
      "source": [
        "## Network architecture and parameters\n",
        "It is often helpful to review the architecture of the network and see how many parameters will need to be learned through the training process. To do this, Keras provides the `.summary()` function:"
      ]
    },
    {
      "cell_type": "code",
      "execution_count": null,
      "metadata": {
        "id": "nfouUE-J9gLI",
        "outputId": "c07ba1b1-8a4c-48b3-a7fb-7c659477e696",
        "colab": {
          "base_uri": "https://localhost:8080/"
        }
      },
      "outputs": [
        {
          "output_type": "stream",
          "name": "stdout",
          "text": [
            "Model: \"sequential\"\n",
            "_________________________________________________________________\n",
            " Layer (type)                Output Shape              Param #   \n",
            "=================================================================\n",
            " dense (Dense)               (None, 512)               401920    \n",
            "                                                                 \n",
            " dense_1 (Dense)             (None, 10)                5130      \n",
            "                                                                 \n",
            "=================================================================\n",
            "Total params: 407050 (1.55 MB)\n",
            "Trainable params: 407050 (1.55 MB)\n",
            "Non-trainable params: 0 (0.00 Byte)\n",
            "_________________________________________________________________\n"
          ]
        }
      ],
      "source": [
        "network.summary()"
      ]
    },
    {
      "cell_type": "markdown",
      "metadata": {
        "id": "7lh3w8AR9gLI"
      },
      "source": [
        "## Compile the network\n",
        "To make our network ready for training, we need to pick three more things, as part of \"compilation\" step:\n",
        "\n",
        "* A loss function: this is how the network will be able to measure how good a job it is doing on its training data, and thus how it will be able to steer itself in the right direction.\n",
        "* An optimizer: this is the mechanism through which the network will update its parameters (weights and biases) based on the data it sees and its loss function. This is like the *gradient descent* recipe for updating the network's parameters.\n",
        "* Metrics: what to monitor during training and testing. Here we will only care about accuracy (the fraction of the images that were correctly classified)."
      ]
    },
    {
      "cell_type": "code",
      "execution_count": null,
      "metadata": {
        "id": "cj07MyKT9gLI"
      },
      "outputs": [],
      "source": [
        "network.compile(optimizer='rmsprop',\n",
        "                loss='categorical_crossentropy',\n",
        "                metrics=['accuracy'])"
      ]
    },
    {
      "cell_type": "markdown",
      "metadata": {
        "id": "mPOCSa319gLI"
      },
      "source": [
        "We are now ready to train our network, which in Keras is done via a call to the `fit` method of the network:\n",
        "we \"fit\" the model to its training data."
      ]
    },
    {
      "cell_type": "markdown",
      "metadata": {
        "id": "18vyNpl59gLI"
      },
      "source": [
        "## Train the network"
      ]
    },
    {
      "cell_type": "code",
      "execution_count": null,
      "metadata": {
        "id": "DnEyaaZV9gLI",
        "outputId": "83bdbd0f-80b4-4690-bb68-442155c2511b",
        "colab": {
          "base_uri": "https://localhost:8080/"
        }
      },
      "outputs": [
        {
          "output_type": "stream",
          "name": "stdout",
          "text": [
            "Epoch 1/5\n",
            "469/469 [==============================] - 9s 17ms/step - loss: 0.2634 - accuracy: 0.9231\n",
            "Epoch 2/5\n",
            "469/469 [==============================] - 10s 21ms/step - loss: 0.1066 - accuracy: 0.9684\n",
            "Epoch 3/5\n",
            "469/469 [==============================] - 8s 17ms/step - loss: 0.0699 - accuracy: 0.9790\n",
            "Epoch 4/5\n",
            "469/469 [==============================] - 4s 10ms/step - loss: 0.0513 - accuracy: 0.9849\n",
            "Epoch 5/5\n",
            "469/469 [==============================] - 5s 10ms/step - loss: 0.0387 - accuracy: 0.9886\n"
          ]
        }
      ],
      "source": [
        "history = network.fit(train_images, train_labels, epochs=5, batch_size=128, verbose=1)"
      ]
    },
    {
      "cell_type": "markdown",
      "metadata": {
        "id": "yI4CVb0D9gLI"
      },
      "source": [
        "Two quantities are being displayed during training: the \"loss\" of the network over the training data, and the accuracy of the network over\n",
        "the training data.\n",
        "\n",
        "We quickly reach an accuracy of around 0.98 (i.e. 98%) on the training data."
      ]
    },
    {
      "cell_type": "markdown",
      "metadata": {
        "id": "DMkz4Ak29gLI"
      },
      "source": [
        "## Check test accuracy\n",
        "\n",
        "Now let's check that our model performs well on the test set too:"
      ]
    },
    {
      "cell_type": "code",
      "execution_count": null,
      "metadata": {
        "id": "idThFmD69gLJ",
        "outputId": "f65ffd81-61c7-4f22-f56f-a566039e608f",
        "colab": {
          "base_uri": "https://localhost:8080/"
        }
      },
      "outputs": [
        {
          "output_type": "stream",
          "name": "stdout",
          "text": [
            "313/313 [==============================] - 1s 3ms/step - loss: 0.0699 - accuracy: 0.9781\n"
          ]
        }
      ],
      "source": [
        "test_loss, test_acc = network.evaluate(test_images, test_labels)"
      ]
    },
    {
      "cell_type": "code",
      "execution_count": null,
      "metadata": {
        "id": "Ln7bCBxv9gLJ",
        "outputId": "f295de97-143d-4533-ec91-26c9961637ba",
        "colab": {
          "base_uri": "https://localhost:8080/"
        }
      },
      "outputs": [
        {
          "output_type": "stream",
          "name": "stdout",
          "text": [
            "test_acc: 0.9781000018119812\n"
          ]
        }
      ],
      "source": [
        "print('test_acc:', test_acc)"
      ]
    },
    {
      "cell_type": "markdown",
      "metadata": {
        "id": "fSohQhQs9gLJ"
      },
      "source": [
        "\n",
        "Our test set accuracy turns out to be around 98%, which is lower than the training set accuracy.\n",
        "\n",
        "This concludes our very first example -- you just saw how we could build and train a neural network to classify handwritten digits, in less than 20 lines of Python code."
      ]
    },
    {
      "cell_type": "markdown",
      "metadata": {
        "id": "5uZZu6Yo9gLJ"
      },
      "source": [
        "**epoch**\n",
        "  - one epoch is reached when all training examples have been sent through the network\n",
        "  \n",
        "**batch size**\n",
        "  - the training data is not sent through the network one sample at time but in batches; this is another hyperparamter to be set. The weights and biases are updated after each batch is processed by the network. In this example the batch size was set to 128\n"
      ]
    },
    {
      "cell_type": "markdown",
      "metadata": {
        "id": "-essVG--9gLK"
      },
      "source": [
        "## Your turn\n",
        "\n",
        "Rerunning the network means executing the following steps:\n",
        "- Build the network\n",
        "- Network architecure and parameters\n",
        "- Compile the network\n",
        "- Train the network\n",
        "- Check test accuracy\n",
        "\n",
        "**Each exercise will thus have all the necessary code to build, compile, fit, and test.**\n",
        "\n",
        "## Starting Code\n",
        "\n",
        "Begin with the following code for Exercises 1 to 5, that is, the code below is what you are being asked to modify in the first five exercises:\n",
        "\n",
        "```\n",
        "network = Sequential()\n",
        "network.add(Dense(512, activation='relu', input_shape=(28 * 28,)))\n",
        "network.add(Dense(10, activation='softmax'))\n",
        "\n",
        "network.summary()\n",
        "\n",
        "network.compile(optimizer='rmsprop',\n",
        "                loss='categorical_crossentropy',\n",
        "                metrics=['accuracy'])\n",
        "                \n",
        "network.fit(train_images, train_labels, epochs=5, batch_size=128, verbose=1)\n",
        "\n",
        "test_loss, test_acc = network.evaluate(test_images, test_labels)\n",
        "print('test_acc:', test_acc)\n",
        "```\n",
        "\n",
        "Be sure to rename the `network` for each Exercise."
      ]
    },
    {
      "cell_type": "markdown",
      "metadata": {
        "id": "GbrPEYjf9gLK"
      },
      "source": [
        "## Your turn\n",
        "\n",
        "Rerunning the network means executing the following steps:\n",
        "- Build the network\n",
        "- Compile the network\n",
        "- Fit the data\n",
        "- Check test accuracy\n",
        "\n",
        "Before you begin, make a copy of the `network` in the *Build the network* section so you can remember the structure and parameters for the original network.\n",
        "\n",
        "### **Exercise 1-6 (15 Marks) (2.5 Marks each)**\n",
        "\n",
        "### Exercise 1\n",
        "\n",
        "- change the activation in the hidden layer to 'sigmoid'\n",
        "- rerun the network\n",
        "- what is the new value for the training accuracy?\n",
        "- what is the new value for the test accuracy?"
      ]
    },
    {
      "cell_type": "code",
      "execution_count": null,
      "metadata": {
        "id": "0DFqWTi69gLK",
        "colab": {
          "base_uri": "https://localhost:8080/"
        },
        "outputId": "d87c97c3-27b0-443d-a155-8a7ebfbdc32e"
      },
      "outputs": [
        {
          "output_type": "stream",
          "name": "stdout",
          "text": [
            "Model: \"sequential_1\"\n",
            "_________________________________________________________________\n",
            " Layer (type)                Output Shape              Param #   \n",
            "=================================================================\n",
            " dense_2 (Dense)             (None, 512)               401920    \n",
            "                                                                 \n",
            " dense_3 (Dense)             (None, 10)                5130      \n",
            "                                                                 \n",
            "=================================================================\n",
            "Total params: 407050 (1.55 MB)\n",
            "Trainable params: 407050 (1.55 MB)\n",
            "Non-trainable params: 0 (0.00 Byte)\n",
            "_________________________________________________________________\n",
            "Epoch 1/5\n",
            "469/469 [==============================] - 5s 10ms/step - loss: 0.4621 - accuracy: 0.8771\n",
            "Epoch 2/5\n",
            "469/469 [==============================] - 6s 12ms/step - loss: 0.2662 - accuracy: 0.9227\n",
            "Epoch 3/5\n",
            "469/469 [==============================] - 5s 10ms/step - loss: 0.2144 - accuracy: 0.9378\n",
            "Epoch 4/5\n",
            "469/469 [==============================] - 5s 11ms/step - loss: 0.1755 - accuracy: 0.9491\n",
            "Epoch 5/5\n",
            "469/469 [==============================] - 5s 11ms/step - loss: 0.1459 - accuracy: 0.9581\n",
            "313/313 [==============================] - 1s 3ms/step - loss: 0.1422 - accuracy: 0.9572\n",
            "test_acc: 0.9571999907493591\n",
            "1875/1875 [==============================] - 7s 4ms/step - loss: 0.1315 - accuracy: 0.9619\n",
            "train_acc: 0.9619166851043701\n"
          ]
        }
      ],
      "source": [
        "network1 = Sequential()\n",
        "network1.add(Dense(512, activation='sigmoid', input_shape=(28 * 28,)))\n",
        "network1.add(Dense(10, activation='softmax'))\n",
        "\n",
        "network1.summary()\n",
        "\n",
        "network1.compile(optimizer='rmsprop',\n",
        "                loss='categorical_crossentropy',\n",
        "                metrics=['accuracy'])\n",
        "\n",
        "network1.fit(train_images, train_labels, epochs=5, batch_size=128, verbose=1)\n",
        "\n",
        "test_loss, test_acc = network1.evaluate(test_images, test_labels)\n",
        "print('test_acc:', test_acc)\n",
        "\n",
        "train_loss, train_acc = network1.evaluate(train_images, train_labels)\n",
        "print('train_acc:', train_acc)"
      ]
    },
    {
      "cell_type": "markdown",
      "source": [
        "**Q:** what is the new value for the training accuracy?\n",
        "\n",
        "The new training accuracy value is **0.9619166851043701**\n",
        "\n",
        "**Q:** what is the new value for the test accuracy?\n",
        "\n",
        "The new test accuracy value is **0.9571999907493591**"
      ],
      "metadata": {
        "id": "HVw3fgCyvj4U"
      }
    },
    {
      "cell_type": "markdown",
      "metadata": {
        "id": "8A0mC-lw9gLK"
      },
      "source": [
        "### Exercise 2\n",
        "\n",
        "- change the activation in the hidden layer back to 'relu'\n",
        "- change the batch size to 32\n",
        "- rerun the network\n",
        "- what is the new value for the training accuracy?\n",
        "- what is the new value for the test accuracy?\n",
        "- was the speed effected?"
      ]
    },
    {
      "cell_type": "code",
      "execution_count": null,
      "metadata": {
        "id": "lp6wzl769gLK",
        "colab": {
          "base_uri": "https://localhost:8080/"
        },
        "outputId": "bab93f16-6c23-44ee-fe11-ab7b52d031b5"
      },
      "outputs": [
        {
          "output_type": "stream",
          "name": "stdout",
          "text": [
            "Model: \"sequential_2\"\n",
            "_________________________________________________________________\n",
            " Layer (type)                Output Shape              Param #   \n",
            "=================================================================\n",
            " dense_4 (Dense)             (None, 512)               401920    \n",
            "                                                                 \n",
            " dense_5 (Dense)             (None, 10)                5130      \n",
            "                                                                 \n",
            "=================================================================\n",
            "Total params: 407050 (1.55 MB)\n",
            "Trainable params: 407050 (1.55 MB)\n",
            "Non-trainable params: 0 (0.00 Byte)\n",
            "_________________________________________________________________\n",
            "Epoch 1/5\n",
            "1875/1875 [==============================] - 13s 7ms/step - loss: 0.2023 - accuracy: 0.9394\n",
            "Epoch 2/5\n",
            "1875/1875 [==============================] - 14s 7ms/step - loss: 0.0854 - accuracy: 0.9744\n",
            "Epoch 3/5\n",
            "1875/1875 [==============================] - 13s 7ms/step - loss: 0.0603 - accuracy: 0.9823\n",
            "Epoch 4/5\n",
            "1875/1875 [==============================] - 13s 7ms/step - loss: 0.0449 - accuracy: 0.9867\n",
            "Epoch 5/5\n",
            "1875/1875 [==============================] - 13s 7ms/step - loss: 0.0340 - accuracy: 0.9898\n",
            "313/313 [==============================] - 1s 3ms/step - loss: 0.0758 - accuracy: 0.9798\n",
            "test_acc: 0.9797999858856201\n",
            "1875/1875 [==============================] - 7s 3ms/step - loss: 0.0216 - accuracy: 0.9935\n",
            "train_acc: 0.9934999942779541\n"
          ]
        }
      ],
      "source": [
        "network2 = Sequential()\n",
        "network2.add(Dense(512, activation='relu', input_shape=(28 * 28,)))\n",
        "network2.add(Dense(10, activation='softmax'))\n",
        "\n",
        "network2.summary()\n",
        "\n",
        "network2.compile(optimizer='rmsprop',\n",
        "                loss='categorical_crossentropy',\n",
        "                metrics=['accuracy'])\n",
        "\n",
        "network2.fit(train_images, train_labels, epochs=5, batch_size=32, verbose=1)\n",
        "\n",
        "test_loss, test_acc = network2.evaluate(test_images, test_labels)\n",
        "print('test_acc:', test_acc)\n",
        "\n",
        "train_loss, train_acc = network2.evaluate(train_images, train_labels)\n",
        "print('train_acc:', train_acc)"
      ]
    },
    {
      "cell_type": "markdown",
      "source": [
        "**Q:** what is the new value for the training accuracy?\n",
        "\n",
        "The new training accuracy value is **0.9934999942779541**\n",
        "\n",
        "**Q:** what is the new value for the test accuracy?\n",
        "\n",
        "The new test accuracy value is **0.9797999858856201**\n",
        "\n",
        "\n",
        "**Q:** was the speed effected?\n",
        "\n",
        "As batch size is reduced, it might take slightly **longer to train** because more gradient updates are made per epoch, but it can lead to better convergence and possibly better accuracy."
      ],
      "metadata": {
        "id": "sfxeX-rnkuwC"
      }
    },
    {
      "cell_type": "markdown",
      "metadata": {
        "id": "5IIBsGT89gLK"
      },
      "source": [
        "### Exercise 3\n",
        "\n",
        "- change the number of epochs to 10\n",
        "- rerun the network\n",
        "- what is the new value for the training accuracy?\n",
        "- what is the new value for the test accuracy?"
      ]
    },
    {
      "cell_type": "code",
      "execution_count": null,
      "metadata": {
        "id": "JuRkQWaS9gLK",
        "colab": {
          "base_uri": "https://localhost:8080/"
        },
        "outputId": "3fa44796-03e9-4265-f9a9-8f5cba533769"
      },
      "outputs": [
        {
          "output_type": "stream",
          "name": "stdout",
          "text": [
            "Model: \"sequential_3\"\n",
            "_________________________________________________________________\n",
            " Layer (type)                Output Shape              Param #   \n",
            "=================================================================\n",
            " dense_6 (Dense)             (None, 512)               401920    \n",
            "                                                                 \n",
            " dense_7 (Dense)             (None, 10)                5130      \n",
            "                                                                 \n",
            "=================================================================\n",
            "Total params: 407050 (1.55 MB)\n",
            "Trainable params: 407050 (1.55 MB)\n",
            "Non-trainable params: 0 (0.00 Byte)\n",
            "_________________________________________________________________\n",
            "Epoch 1/10\n",
            "469/469 [==============================] - 5s 10ms/step - loss: 0.2648 - accuracy: 0.9227\n",
            "Epoch 2/10\n",
            "469/469 [==============================] - 5s 11ms/step - loss: 0.1085 - accuracy: 0.9683\n",
            "Epoch 3/10\n",
            "469/469 [==============================] - 4s 9ms/step - loss: 0.0710 - accuracy: 0.9787\n",
            "Epoch 4/10\n",
            "469/469 [==============================] - 5s 11ms/step - loss: 0.0509 - accuracy: 0.9850\n",
            "Epoch 5/10\n",
            "469/469 [==============================] - 5s 10ms/step - loss: 0.0382 - accuracy: 0.9886\n",
            "Epoch 6/10\n",
            "469/469 [==============================] - 4s 10ms/step - loss: 0.0288 - accuracy: 0.9914\n",
            "Epoch 7/10\n",
            "469/469 [==============================] - 6s 12ms/step - loss: 0.0218 - accuracy: 0.9934\n",
            "Epoch 8/10\n",
            "469/469 [==============================] - 4s 10ms/step - loss: 0.0172 - accuracy: 0.9950\n",
            "Epoch 9/10\n",
            "469/469 [==============================] - 5s 10ms/step - loss: 0.0126 - accuracy: 0.9966\n",
            "Epoch 10/10\n",
            "469/469 [==============================] - 6s 12ms/step - loss: 0.0093 - accuracy: 0.9978\n",
            "313/313 [==============================] - 1s 3ms/step - loss: 0.0656 - accuracy: 0.9822\n",
            "test_acc: 0.982200026512146\n",
            "1875/1875 [==============================] - 5s 3ms/step - loss: 0.0062 - accuracy: 0.9989\n",
            "train_acc: 0.9989166855812073\n"
          ]
        }
      ],
      "source": [
        "network3 = Sequential()\n",
        "network3.add(Dense(512, activation='relu', input_shape=(28 * 28,)))\n",
        "network3.add(Dense(10, activation='softmax'))\n",
        "\n",
        "network3.summary()\n",
        "\n",
        "network3.compile(optimizer='rmsprop',\n",
        "                loss='categorical_crossentropy',\n",
        "                metrics=['accuracy'])\n",
        "\n",
        "network3.fit(train_images, train_labels, epochs=10, batch_size=128, verbose=1)\n",
        "\n",
        "test_loss, test_acc = network3.evaluate(test_images, test_labels)\n",
        "print('test_acc:', test_acc)\n",
        "\n",
        "train_loss, train_acc = network3.evaluate(train_images, train_labels)\n",
        "print('train_acc:', train_acc)"
      ]
    },
    {
      "cell_type": "markdown",
      "source": [
        "**Q:** what is the new value for the training accuracy?\n",
        "\n",
        "The new training accuracy value is **0.9989166855812073**\n",
        "\n",
        "**Q:** what is the new value for the test accuracy?\n",
        "\n",
        "The new test accuracy value is **0.982200026512146**"
      ],
      "metadata": {
        "id": "BWKToE2ymtwh"
      }
    },
    {
      "cell_type": "markdown",
      "metadata": {
        "id": "3jaJqS4A9gLK"
      },
      "source": [
        "### Exercise 4\n",
        "\n",
        "- change the number of neurons in the hidden layer to 128\n",
        "- rerun the network\n",
        "- what is the new value for the training accuracy?\n",
        "- what is the new value for the test accuracy?"
      ]
    },
    {
      "cell_type": "code",
      "execution_count": null,
      "metadata": {
        "id": "8n7VZLXO9gLK",
        "colab": {
          "base_uri": "https://localhost:8080/"
        },
        "outputId": "440aa93f-9c31-4d2c-bec2-393df2b7a831"
      },
      "outputs": [
        {
          "output_type": "stream",
          "name": "stdout",
          "text": [
            "Model: \"sequential_4\"\n",
            "_________________________________________________________________\n",
            " Layer (type)                Output Shape              Param #   \n",
            "=================================================================\n",
            " dense_8 (Dense)             (None, 128)               100480    \n",
            "                                                                 \n",
            " dense_9 (Dense)             (None, 10)                1290      \n",
            "                                                                 \n",
            "=================================================================\n",
            "Total params: 101770 (397.54 KB)\n",
            "Trainable params: 101770 (397.54 KB)\n",
            "Non-trainable params: 0 (0.00 Byte)\n",
            "_________________________________________________________________\n",
            "Epoch 1/5\n",
            "469/469 [==============================] - 2s 4ms/step - loss: 0.3377 - accuracy: 0.9077\n",
            "Epoch 2/5\n",
            "469/469 [==============================] - 2s 4ms/step - loss: 0.1603 - accuracy: 0.9541\n",
            "Epoch 3/5\n",
            "469/469 [==============================] - 2s 4ms/step - loss: 0.1140 - accuracy: 0.9672\n",
            "Epoch 4/5\n",
            "469/469 [==============================] - 3s 6ms/step - loss: 0.0892 - accuracy: 0.9731\n",
            "Epoch 5/5\n",
            "469/469 [==============================] - 2s 5ms/step - loss: 0.0726 - accuracy: 0.9790\n",
            "313/313 [==============================] - 1s 2ms/step - loss: 0.0828 - accuracy: 0.9750\n",
            "test_acc: 0.9750000238418579\n",
            "1875/1875 [==============================] - 4s 2ms/step - loss: 0.0566 - accuracy: 0.9835\n",
            "train_acc: 0.9834666848182678\n"
          ]
        }
      ],
      "source": [
        "network4 = Sequential()\n",
        "network4.add(Dense(128, activation='relu', input_shape=(28 * 28,)))\n",
        "network4.add(Dense(10, activation='softmax'))\n",
        "\n",
        "network4.summary()\n",
        "\n",
        "network4.compile(optimizer='rmsprop',\n",
        "                loss='categorical_crossentropy',\n",
        "                metrics=['accuracy'])\n",
        "\n",
        "network4.fit(train_images, train_labels, epochs=5, batch_size=128, verbose=1)\n",
        "\n",
        "test_loss, test_acc = network4.evaluate(test_images, test_labels)\n",
        "print('test_acc:', test_acc)\n",
        "\n",
        "train_loss, train_acc = network4.evaluate(train_images, train_labels)\n",
        "print('train_acc:', train_acc)"
      ]
    },
    {
      "cell_type": "markdown",
      "source": [
        "**Q:** what is the new value for the training accuracy?\n",
        "\n",
        "The new training accuracy value is **0.9834666848182678**\n",
        "\n",
        "**Q:** what is the new value for the test accuracy?\n",
        "\n",
        "The new test accuracy value is **0.9750000238418579**"
      ],
      "metadata": {
        "id": "69LjgWJpm5vE"
      }
    },
    {
      "cell_type": "markdown",
      "metadata": {
        "id": "apa9fRnM9gLL"
      },
      "source": [
        "### Exercise 5\n",
        "\n",
        "- to the original network, add a second hidden layer of 128 neurons (note that `input_shape` does note need to be set for a second *Dense* layer)\n",
        "- rerun the network\n",
        "- what is the new value for the training accuracy?\n",
        "- what is the new value for the test accuracy?"
      ]
    },
    {
      "cell_type": "code",
      "execution_count": null,
      "metadata": {
        "id": "sEKK4e6I9gLL",
        "colab": {
          "base_uri": "https://localhost:8080/"
        },
        "outputId": "3135c0c3-1299-4625-fb4f-8bc852dd834d"
      },
      "outputs": [
        {
          "output_type": "stream",
          "name": "stdout",
          "text": [
            "Model: \"sequential_5\"\n",
            "_________________________________________________________________\n",
            " Layer (type)                Output Shape              Param #   \n",
            "=================================================================\n",
            " dense_10 (Dense)            (None, 512)               401920    \n",
            "                                                                 \n",
            " dense_11 (Dense)            (None, 128)               65664     \n",
            "                                                                 \n",
            " dense_12 (Dense)            (None, 10)                1290      \n",
            "                                                                 \n",
            "=================================================================\n",
            "Total params: 468874 (1.79 MB)\n",
            "Trainable params: 468874 (1.79 MB)\n",
            "Non-trainable params: 0 (0.00 Byte)\n",
            "_________________________________________________________________\n",
            "Epoch 1/5\n",
            "469/469 [==============================] - 7s 13ms/step - loss: 0.2411 - accuracy: 0.9280\n",
            "Epoch 2/5\n",
            "469/469 [==============================] - 5s 11ms/step - loss: 0.0895 - accuracy: 0.9727\n",
            "Epoch 3/5\n",
            "469/469 [==============================] - 6s 13ms/step - loss: 0.0567 - accuracy: 0.9825\n",
            "Epoch 4/5\n",
            "469/469 [==============================] - 6s 12ms/step - loss: 0.0401 - accuracy: 0.9873\n",
            "Epoch 5/5\n",
            "469/469 [==============================] - 5s 11ms/step - loss: 0.0299 - accuracy: 0.9904\n",
            "313/313 [==============================] - 1s 4ms/step - loss: 0.0756 - accuracy: 0.9795\n",
            "test_acc: 0.9794999957084656\n",
            "1875/1875 [==============================] - 6s 3ms/step - loss: 0.0203 - accuracy: 0.9937\n",
            "train_acc: 0.9937000274658203\n"
          ]
        }
      ],
      "source": [
        "network5 = Sequential()\n",
        "network5.add(Dense(512, activation='relu', input_shape=(28 * 28,)))\n",
        "network5.add(Dense(128, activation='relu'))\n",
        "network5.add(Dense(10, activation='softmax'))\n",
        "\n",
        "network5.summary()\n",
        "\n",
        "network5.compile(optimizer='rmsprop',\n",
        "                loss='categorical_crossentropy',\n",
        "                metrics=['accuracy'])\n",
        "\n",
        "network5.fit(train_images, train_labels, epochs=5, batch_size=128, verbose=1)\n",
        "\n",
        "test_loss, test_acc = network5.evaluate(test_images, test_labels)\n",
        "print('test_acc:', test_acc)\n",
        "\n",
        "train_loss, train_acc = network5.evaluate(train_images, train_labels)\n",
        "print('train_acc:', train_acc)"
      ]
    },
    {
      "cell_type": "markdown",
      "source": [
        "**Q:** what is the new value for the training accuracy?\n",
        "\n",
        "The new training accuracy value is **0.9937000274658203**\n",
        "\n",
        "**Q:** what is the new value for the test accuracy?\n",
        "\n",
        "The new test accuracy value is **0.9794999957084656**"
      ],
      "metadata": {
        "id": "s2fzDIxMnHN-"
      }
    },
    {
      "cell_type": "markdown",
      "metadata": {
        "id": "azOgAzee9gLL"
      },
      "source": [
        "### Exercise 6\n",
        "\n",
        "There is a good chance that the network from the previous exercise is overfitting. One way to manage overfitting in a network is to add a **dropout** layer. A dropout layer will randomly \"turn off\" (or *drop*) a fraction of the neurons in a layer. This makes it harder for the network to 'memorize' the training data.\n",
        "\n",
        "- add a dropout layer after the first hidden layer (see the [keras documentation](https://keras.io/layers/core/))\n",
        "- rerun the network\n",
        "- what is the new value for the training accuracy?\n",
        "- what is the new value for the test accuracy?"
      ]
    },
    {
      "cell_type": "code",
      "execution_count": null,
      "metadata": {
        "id": "zMGhpkHA9gLL",
        "colab": {
          "base_uri": "https://localhost:8080/"
        },
        "outputId": "528c1767-3ad6-4d3a-b086-0b0b07e5f950"
      },
      "outputs": [
        {
          "output_type": "stream",
          "name": "stdout",
          "text": [
            "Model: \"sequential_14\"\n",
            "_________________________________________________________________\n",
            " Layer (type)                Output Shape              Param #   \n",
            "=================================================================\n",
            " dense_37 (Dense)            (None, 512)               401920    \n",
            "                                                                 \n",
            " dropout_8 (Dropout)         (None, 512)               0         \n",
            "                                                                 \n",
            " dense_38 (Dense)            (None, 128)               65664     \n",
            "                                                                 \n",
            " dense_39 (Dense)            (None, 10)                1290      \n",
            "                                                                 \n",
            "=================================================================\n",
            "Total params: 468874 (1.79 MB)\n",
            "Trainable params: 468874 (1.79 MB)\n",
            "Non-trainable params: 0 (0.00 Byte)\n",
            "_________________________________________________________________\n",
            "Epoch 1/5\n",
            "469/469 [==============================] - 8s 15ms/step - loss: 0.3063 - accuracy: 0.9074\n",
            "Epoch 2/5\n",
            "469/469 [==============================] - 6s 12ms/step - loss: 0.1446 - accuracy: 0.9555\n",
            "Epoch 3/5\n",
            "469/469 [==============================] - 7s 14ms/step - loss: 0.1139 - accuracy: 0.9651\n",
            "Epoch 4/5\n",
            "469/469 [==============================] - 6s 12ms/step - loss: 0.0950 - accuracy: 0.9710\n",
            "Epoch 5/5\n",
            "469/469 [==============================] - 7s 14ms/step - loss: 0.0849 - accuracy: 0.9744\n",
            "313/313 [==============================] - 1s 3ms/step - loss: 0.0721 - accuracy: 0.9786\n",
            "test_acc: 0.978600025177002\n",
            "1875/1875 [==============================] - 7s 4ms/step - loss: 0.0414 - accuracy: 0.9868\n",
            "train_acc: 0.9868333339691162\n"
          ]
        }
      ],
      "source": [
        "from keras.layers import Dropout\n",
        "\n",
        "network6 = Sequential()\n",
        "network6.add(Dense(512, activation='relu', input_shape=(28 * 28,)))\n",
        "# Added a Dropout layer with a specified dropout rate\n",
        "network6.add(Dropout(0.5))\n",
        "network6.add(Dense(128, activation='relu'))\n",
        "network6.add(Dense(10, activation='softmax'))\n",
        "\n",
        "network6.summary()\n",
        "\n",
        "network6.compile(optimizer='rmsprop',\n",
        "                loss='categorical_crossentropy',\n",
        "                metrics=['accuracy'])\n",
        "\n",
        "network6.fit(train_images, train_labels, epochs=5, batch_size=128, verbose=1)\n",
        "\n",
        "test_loss, test_acc = network6.evaluate(test_images, test_labels)\n",
        "print('test_acc:', test_acc)\n",
        "\n",
        "train_loss, train_acc = network6.evaluate(train_images, train_labels)\n",
        "print('train_acc:', train_acc)"
      ]
    },
    {
      "cell_type": "markdown",
      "source": [
        "**Q:** what is the new value for the training accuracy?\n",
        "\n",
        "The new training accuracy value is **0.9868333339691162**\n",
        "\n",
        "**Q:** what is the new value for the test accuracy?\n",
        "\n",
        "The new test accuracy value is **0.978600025177002**"
      ],
      "metadata": {
        "id": "M-9E8_PboTmy"
      }
    },
    {
      "cell_type": "markdown",
      "source": [
        "![image.png](data:image/png;base64,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)"
      ],
      "metadata": {
        "id": "jbS7t79qQPjS"
      }
    },
    {
      "cell_type": "markdown",
      "source": [
        "### **Exercise 7 - CHALLENGE! (20 Marks)**\n",
        "\n",
        "**State of the art accuracy for the MNIST dataset is 99.84%.**\n",
        "\n",
        "How close can you get to this accuracy?\n",
        "\n",
        "Create a new fully-connected network. You can find information in the keras documentation. Things to try:\n",
        "* additional layers\n",
        "* number of neurons per layer\n",
        "* batch size\n",
        "* learning rate\n",
        "* activation functions\n",
        "* weight initializations\n",
        "* different optimizers\n",
        "* dropout layers\n",
        "\n",
        "\n",
        "This network should have at least 3 characteristics that are different from every other network submitted in this lab"
      ],
      "metadata": {
        "id": "b-HOSfjS-cya"
      }
    },
    {
      "cell_type": "code",
      "source": [
        "from keras.layers import Dropout\n",
        "\n",
        "network7 = Sequential()\n",
        "network7.add(Dense(512, activation='sigmoid', input_shape=(28 * 28,)))\n",
        "# Added a Dropout layer with a specified dropout rate\n",
        "network7.add(Dropout(0.5))\n",
        "network7.add(Dense(128, activation='sigmoid'))\n",
        "network7.add(Dense(128, activation='relu'))\n",
        "# Added a Dropout layer with a specified dropout rate\n",
        "network7.add(Dropout(0.5))\n",
        "network7.add(Dense(10, activation='softmax')) # Multi clasiification problem\n",
        "\n",
        "network7.summary()\n",
        "\n",
        "network7.compile(optimizer='rmsprop',\n",
        "                loss='categorical_crossentropy',\n",
        "                metrics=['accuracy'])\n",
        "\n",
        "history = network7.fit(train_images, train_labels, epochs=17, batch_size=128, verbose=1)\n",
        "\n",
        "import matplotlib.pyplot as plt\n",
        "# Plot training history\n",
        "def plot_training_history(history):\n",
        "    # Plot training & validation loss values\n",
        "    plt.figure(figsize=(20, 6))\n",
        "    plt.subplot(1, 2, 1)\n",
        "    plt.plot(history.history['loss'], 'o-', color='green')\n",
        "    plt.title('Accuracy and Loss Model')\n",
        "    plt.xlabel('Epoch')\n",
        "    plt.ylabel('Loss')\n",
        "    plt.legend(['Loss'], loc='upper right')\n",
        "\n",
        "    # Plot training & validation accuracy values\n",
        "    plt.twinx()\n",
        "    plt.plot(history.history['accuracy'], 'o-',color='blue')\n",
        "    plt.xlabel('Epoch')\n",
        "    plt.ylabel('Accuracy')\n",
        "    plt.legend(['Accuracy'], loc='lower right')\n",
        "\n",
        "    plt.show()\n",
        "\n",
        "plot_training_history(history)\n",
        "\n",
        "test_loss, test_acc = network7.evaluate(test_images, test_labels)\n",
        "print('test_acc:', test_acc)\n",
        "\n",
        "train_loss, train_acc = network7.evaluate(train_images, train_labels)\n",
        "print('train_acc:', train_acc)"
      ],
      "metadata": {
        "id": "VRoL14Ib-4Hl",
        "colab": {
          "base_uri": "https://localhost:8080/",
          "height": 1000
        },
        "outputId": "9be3d31b-c9ba-40c9-9490-6435ecc9130f"
      },
      "execution_count": null,
      "outputs": [
        {
          "output_type": "stream",
          "name": "stdout",
          "text": [
            "Model: \"sequential_55\"\n",
            "_________________________________________________________________\n",
            " Layer (type)                Output Shape              Param #   \n",
            "=================================================================\n",
            " dense_200 (Dense)           (None, 512)               401920    \n",
            "                                                                 \n",
            " dropout_109 (Dropout)       (None, 512)               0         \n",
            "                                                                 \n",
            " dense_201 (Dense)           (None, 128)               65664     \n",
            "                                                                 \n",
            " dense_202 (Dense)           (None, 128)               16512     \n",
            "                                                                 \n",
            " dropout_110 (Dropout)       (None, 128)               0         \n",
            "                                                                 \n",
            " dense_203 (Dense)           (None, 10)                1290      \n",
            "                                                                 \n",
            "=================================================================\n",
            "Total params: 485386 (1.85 MB)\n",
            "Trainable params: 485386 (1.85 MB)\n",
            "Non-trainable params: 0 (0.00 Byte)\n",
            "_________________________________________________________________\n",
            "Epoch 1/17\n",
            "469/469 [==============================] - 7s 14ms/step - loss: 0.8715 - accuracy: 0.7164\n",
            "Epoch 2/17\n",
            "469/469 [==============================] - 7s 16ms/step - loss: 0.3762 - accuracy: 0.8901\n",
            "Epoch 3/17\n",
            "469/469 [==============================] - 6s 14ms/step - loss: 0.2828 - accuracy: 0.9173\n",
            "Epoch 4/17\n",
            "469/469 [==============================] - 8s 16ms/step - loss: 0.2367 - accuracy: 0.9322\n",
            "Epoch 5/17\n",
            "469/469 [==============================] - 6s 14ms/step - loss: 0.2049 - accuracy: 0.9409\n",
            "Epoch 6/17\n",
            "469/469 [==============================] - 7s 16ms/step - loss: 0.1810 - accuracy: 0.9465\n",
            "Epoch 7/17\n",
            "469/469 [==============================] - 7s 14ms/step - loss: 0.1663 - accuracy: 0.9518\n",
            "Epoch 8/17\n",
            "469/469 [==============================] - 7s 15ms/step - loss: 0.1524 - accuracy: 0.9553\n",
            "Epoch 9/17\n",
            "469/469 [==============================] - 7s 15ms/step - loss: 0.1400 - accuracy: 0.9599\n",
            "Epoch 10/17\n",
            "469/469 [==============================] - 7s 15ms/step - loss: 0.1327 - accuracy: 0.9618\n",
            "Epoch 11/17\n",
            "469/469 [==============================] - 7s 16ms/step - loss: 0.1269 - accuracy: 0.9637\n",
            "Epoch 12/17\n",
            "469/469 [==============================] - 7s 15ms/step - loss: 0.1179 - accuracy: 0.9653\n",
            "Epoch 13/17\n",
            "469/469 [==============================] - 8s 16ms/step - loss: 0.1141 - accuracy: 0.9666\n",
            "Epoch 14/17\n",
            "469/469 [==============================] - 6s 14ms/step - loss: 0.1086 - accuracy: 0.9679\n",
            "Epoch 15/17\n",
            "469/469 [==============================] - 7s 16ms/step - loss: 0.1038 - accuracy: 0.9701\n",
            "Epoch 16/17\n",
            "469/469 [==============================] - 6s 14ms/step - loss: 0.0999 - accuracy: 0.9711\n",
            "Epoch 17/17\n",
            "469/469 [==============================] - 7s 16ms/step - loss: 0.0939 - accuracy: 0.9725\n"
          ]
        },
        {
          "output_type": "display_data",
          "data": {
            "text/plain": [
              "<Figure size 2000x600 with 2 Axes>"
            ],
            "image/png": "[encoded data removed]"
          },
          "metadata": {}
        },
        {
          "output_type": "stream",
          "name": "stdout",
          "text": [
            "313/313 [==============================] - 1s 3ms/step - loss: 0.0818 - accuracy: 0.9779\n",
            "test_acc: 0.9779000282287598\n",
            "1875/1875 [==============================] - 7s 4ms/step - loss: 0.0466 - accuracy: 0.9861\n",
            "train_acc: 0.986050009727478\n"
          ]
        }
      ]
    },
    {
      "cell_type": "markdown",
      "source": [
        "1.   Network7 uses a combination of sigmoid and ReLU activations, while network6 uses ReLU exclusively.\n",
        "2.   Network7 has a more complex architecture with an additional dropout layer and varied activation functions.\n",
        "3.   Network7 employs the Adam optimizer, contrasting with network6's use of RMSprop.\n",
        "4.   Network7 includes two dropout layers with different rates (0.5 and 0.3), providing additional regularization during training.\n",
        "5.   Network7 has hidden layers with varying numbers of units (128 and 64), providing different capacity for feature representation.\n",
        "6.   Network7 is trained for 20 epochs, which can lead to more extensive training and potential convergence differences.\n",
        "\n"
      ],
      "metadata": {
        "id": "rlwrAPugr3ec"
      }
    }
  ],
  "metadata": {
    "kernelspec": {
      "display_name": "Python 3 (ipykernel)",
      "language": "python",
      "name": "python3"
    },
    "language_info": {
      "codemirror_mode": {
        "name": "ipython",
        "version": 3
      },
      "file_extension": ".py",
      "mimetype": "text/x-python",
      "name": "python",
      "nbconvert_exporter": "python",
      "pygments_lexer": "ipython3",
      "version": "3.7.13"
    },
    "colab": {
      "provenance": [],
      "include_colab_link": true
    }
  },
  "nbformat": 4,
  "nbformat_minor": 0
}