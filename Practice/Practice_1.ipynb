{
  "nbformat": 4,
  "nbformat_minor": 0,
  "metadata": {
    "colab": {
      "provenance": [],
      "authorship_tag": "ABX9TyPjcjZ6MuUuZTg0c1lDJtrk",
      "include_colab_link": true
    },
    "kernelspec": {
      "name": "python3",
      "display_name": "Python 3"
    },
    "language_info": {
      "name": "python"
    }
  },
  "cells": [
    {
      "cell_type": "markdown",
      "metadata": {
        "id": "view-in-github",
        "colab_type": "text"
      },
      "source": [
        "<a href=\"https://colab.research.google.com/github/Aartizikre150/DAb300/blob/main/Practice/Practice_1.ipynb\" target=\"_parent\"><img src=\"https://colab.research.google.com/assets/colab-badge.svg\" alt=\"Open In Colab\"/></a>"
      ]
    },
    {
      "cell_type": "code",
      "execution_count": null,
      "metadata": {
        "id": "fUqxXfoFRLds"
      },
      "outputs": [],
      "source": [
        "import numpy as np"
      ]
    },
    {
      "cell_type": "code",
      "source": [
        "x = np.array([[2,3], [4,5]])\n",
        "w1 = np.array([[0,1],[1,1]])\n",
        "b1 = np.array([2,1])\n",
        "\n",
        "w2 = np.array([2,0])\n",
        "b2 = np.array(1)"
      ],
      "metadata": {
        "id": "oIkFmx0eRQSX"
      },
      "execution_count": null,
      "outputs": []
    },
    {
      "cell_type": "code",
      "source": [
        "z = np.dot(w1, x.T)+b1\n",
        "z"
      ],
      "metadata": {
        "id": "6CdqTLgpRwqU"
      },
      "execution_count": null,
      "outputs": []
    },
    {
      "cell_type": "code",
      "source": [
        "def sigmoidcal(z):\n",
        "  ans = 1/(1+np.exp(-z))\n",
        "  return ans"
      ],
      "metadata": {
        "id": "7dRuVu2KSX9q"
      },
      "execution_count": null,
      "outputs": []
    },
    {
      "cell_type": "code",
      "source": [
        "ans = sigmoidcal(z)\n",
        "ans"
      ],
      "metadata": {
        "id": "FcdnEoDuT6Ko"
      },
      "execution_count": null,
      "outputs": []
    },
    {
      "cell_type": "code",
      "source": [
        "final = np.dot(w2,ans.T)+b2\n"
      ],
      "metadata": {
        "id": "7-2V6O1TT_Su"
      },
      "execution_count": null,
      "outputs": []
    },
    {
      "cell_type": "code",
      "source": [
        "final_ans = sigmoidcal(final)"
      ],
      "metadata": {
        "id": "aZHXK4yMUgsQ"
      },
      "execution_count": null,
      "outputs": []
    },
    {
      "cell_type": "code",
      "source": [
        "final_ans"
      ],
      "metadata": {
        "id": "r5vsNZOVUwLB"
      },
      "execution_count": null,
      "outputs": []
    },
    {
      "cell_type": "code",
      "source": [],
      "metadata": {
        "id": "ItERTv0YUxul"
      },
      "execution_count": null,
      "outputs": []
    }
  ]
}