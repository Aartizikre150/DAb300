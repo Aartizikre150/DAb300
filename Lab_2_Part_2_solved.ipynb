{
  "cells": [
    {
      "cell_type": "markdown",
      "metadata": {
        "id": "view-in-github",
        "colab_type": "text"
      },
      "source": [
        "<a href=\"https://colab.research.google.com/github/Aartizikre150/DAb300/blob/main/Lab_2_Part_2_solved.ipynb\" target=\"_parent\"><img src=\"https://colab.research.google.com/assets/colab-badge.svg\" alt=\"Open In Colab\"/></a>"
      ]
    },
    {
      "cell_type": "markdown",
      "id": "77b9a642",
      "metadata": {
        "id": "77b9a642"
      },
      "source": [
        "# Lab 2 - Part 2: **Image preprocessing and using a fully connected neural network for image classification.** Cont..\n",
        "\n",
        "**Prerequisite**\n",
        "\n",
        "- **Task 1**: Get set up with Google Colab\n",
        "- **Task 2**: Get the neural network you created in **Lab 1: Exercise 7** running without error in Google Colab\n",
        "- **Task 3:** Preprocess images for use in Task 4\n",
        "---\n",
        "\n",
        "In this lab, we will continue where we left off in *Part 1*. We will add a couple tasks to what you have already done:\n",
        "\n",
        "- **Task 5**: Modify the network of **Task 2** so that it can work with the data from **Task 3** (10 Marks)\n",
        "- **Task 6**: Modify the network of **Task 5** to improve the accuracy\n",
        "(10 Marks)\n",
        "- **Task 7**: Questions (10 Marks)\n",
        "\n"
      ]
    },
    {
      "cell_type": "markdown",
      "source": [
        "## **Group - Num**\n",
        "*   Aarti Anil Zikre - 825897\n",
        "*   Andrews Truman - 824852\n",
        "*   Premkumar Janakbhai Patel - 829257\n",
        "*   Vitthlesh Sheth - 825950"
      ],
      "metadata": {
        "id": "XTn146xXaOGk"
      },
      "id": "XTn146xXaOGk"
    },
    {
      "cell_type": "code",
      "source": [
        "from google.colab import drive\n",
        "drive.mount('/content/drive')"
      ],
      "metadata": {
        "id": "GFYN4WegO4IF"
      },
      "id": "GFYN4WegO4IF",
      "execution_count": null,
      "outputs": []
    },
    {
      "cell_type": "code",
      "source": [
        "import numpy as np\n",
        "import tensorflow as tf\n",
        "from tensorflow.keras.models import Sequential\n",
        "from tensorflow.keras.layers import Dense, Dropout, Flatten\n",
        "from tensorflow.keras.preprocessing.image import load_img, img_to_array, smart_resize\n",
        "import matplotlib.pyplot as plt\n",
        "from pathlib import Path\n",
        "from sklearn.model_selection import train_test_split"
      ],
      "metadata": {
        "id": "YD7AuY1fSMR-"
      },
      "id": "YD7AuY1fSMR-",
      "execution_count": null,
      "outputs": []
    },
    {
      "cell_type": "markdown",
      "id": "Ji5mOB6dyNNb",
      "metadata": {
        "id": "Ji5mOB6dyNNb"
      },
      "source": [
        "## Add all the code used for Task 3:  Preprocess images below"
      ]
    },
    {
      "cell_type": "code",
      "execution_count": null,
      "id": "iacPm6KSyMJN",
      "metadata": {
        "id": "iacPm6KSyMJN"
      },
      "outputs": [],
      "source": [
        "p = Path().cwd()\n",
        "q =  p/('/content/drive/MyDrive/Colab Notebooks/Sem3/Lego_small') # None # use p to create a path to the data\n",
        "\n",
        "target_dict = {\n",
        "    'brick 1x2' : 0,\n",
        "    'brick 2x2' : 1,\n",
        "    'brick 2x4' : 2,\n",
        "    'plate 1x2' : 3,\n",
        "    'plate 2x2' : 4,\n",
        "    'plate 2x4' : 5,\n",
        " } # create dictionary mapping Lego block type to integer label\n",
        "\n",
        "images = [] # create an empty list\n",
        "labels = [] # create an empty list\n",
        "\n",
        "for fldr in q.iterdir():\n",
        "    current_label = fldr # get the name of the current label\n",
        "    for img in current_label.iterdir():\n",
        "        img = load_img(img, color_mode = 'grayscale') # load a grayscale image\n",
        "        img_array =img_to_array(img)  # convert the image to an NumPy array\n",
        "        img_array_resized = smart_resize(img_array,(128,128)) # resize the image to 128 by 128\n",
        "        img_array_reshaped = img_array_resized.reshape(128,128) # reshape the image from (128, 128, 1) to (128, 128)\n",
        "        images.append(img_array_reshaped)# add reshaped image to list of images\n",
        "        labels.append(current_label.name)# add label for this image to the list of labels\n",
        "\n",
        "images = np.array(images) # convert the list of images to a NumPy array\n",
        "labels = np.array(labels) # convert the list of labels to a NumPy array"
      ]
    },
    {
      "cell_type": "code",
      "source": [
        "labels"
      ],
      "metadata": {
        "colab": {
          "base_uri": "https://localhost:8080/"
        },
        "id": "EMYrQch4K_za",
        "outputId": "9dc8687c-4a39-49fd-ca5b-509031d64370"
      },
      "id": "EMYrQch4K_za",
      "execution_count": null,
      "outputs": [
        {
          "output_type": "execute_result",
          "data": {
            "text/plain": [
              "array(['brick 2x2', 'brick 2x2', 'brick 2x2', ..., 'plate 1x2',\n",
              "       'plate 1x2', 'plate 1x2'], dtype='<U9')"
            ]
          },
          "metadata": {},
          "execution_count": 63
        }
      ]
    },
    {
      "cell_type": "code",
      "source": [
        "# use plt.imshow() to view a few of the grayscale images\n",
        "\n",
        "plt.imshow(images[14],cmap= 'gray')"
      ],
      "metadata": {
        "colab": {
          "base_uri": "https://localhost:8080/",
          "height": 451
        },
        "id": "V9DqOjzwFcq7",
        "outputId": "f2f7fd2f-7d2d-46d9-9e27-e15e7a38b837"
      },
      "id": "V9DqOjzwFcq7",
      "execution_count": null,
      "outputs": [
        {
          "output_type": "execute_result",
          "data": {
            "text/plain": [
              "<matplotlib.image.AxesImage at 0x7d126d8a60e0>"
            ]
          },
          "metadata": {},
          "execution_count": 64
        },
        {
          "output_type": "display_data",
          "data": {
            "text/plain": [
              "<Figure size 640x480 with 1 Axes>"
            ],
            "image/png": "[encoded data removed]"
          },
          "metadata": {}
        }
      ]
    },
    {
      "cell_type": "markdown",
      "id": "4b09c915",
      "metadata": {
        "id": "4b09c915"
      },
      "source": [
        "## Task 5\n",
        "\n",
        "The next step is to modify the network of Task 2 so that it will work with the data that was processed in Task 3.\n",
        "\n",
        "Here, you will need to:\n",
        " - use `sklearn` to create training, validation, and test sets in approximately the following ratio: 70%/20%/10%\n",
        " - train your network for 10 epochs while monitoring the accuracy on the validation (to do this, you will need to modify the `.fit()` method)\n",
        " - compute the overall accuracy on the test data\n",
        " - compute the confusion matrix (use `tf.math.confusion_matrix()`)\n",
        " - from the confusion matrix, compute the accuracy for each Lego block type (see image below)\n",
        "\n",
        "<img src=\"cm-calculation.jpg\" width=600 align=\"center\">"
      ]
    },
    {
      "cell_type": "code",
      "source": [
        "from sklearn.model_selection import train_test_split\n",
        "x_train,x_temp,y_train,y_temp = train_test_split(images,labels,test_size = 0.3,random_state = 10)\n",
        "x_validation,x_test,y_validation,y_test = train_test_split(x_temp,y_temp,test_size = 0.33,random_state = 10)"
      ],
      "metadata": {
        "id": "PnaMCRaGMqAw"
      },
      "id": "PnaMCRaGMqAw",
      "execution_count": null,
      "outputs": []
    },
    {
      "cell_type": "code",
      "source": [
        "# Normalize pixel values to the range [0, 1]\n",
        "\n",
        "train_images = x_train.astype('float32') / 255.0\n",
        "\n",
        "val_images = x_validation.astype('float32') / 255.0\n",
        "\n",
        "test_images = x_test.astype('float32') / 255.0"
      ],
      "metadata": {
        "id": "TfDk4e61HnYV"
      },
      "id": "TfDk4e61HnYV",
      "execution_count": null,
      "outputs": []
    },
    {
      "cell_type": "code",
      "source": [
        "train_labels = np.array([target_dict[label] for label in y_train])\n",
        "valid_labels = np.array([target_dict[label] for label in y_validation])\n",
        "test_labels = np.array([target_dict[label] for label in y_test])"
      ],
      "metadata": {
        "id": "kRu-bmEeINrA"
      },
      "id": "kRu-bmEeINrA",
      "execution_count": null,
      "outputs": []
    },
    {
      "cell_type": "code",
      "source": [
        "from tensorflow.keras.layers import Flatten\n",
        "network7 = Sequential()\n",
        "network7.add(Flatten(input_shape=(128,128)))  # Flatten the input\n",
        "network7.add(Dense(512, activation='sigmoid'))\n",
        "network7.add(Dropout(0.5))\n",
        "network7.add(Dense(128, activation='sigmoid'))\n",
        "network7.add(Dense(128, activation='relu'))\n",
        "network7.add(Dropout(0.5))\n",
        "network7.add(Dense(num_classes, activation='softmax'))\n",
        "\n",
        "network7.summary()\n",
        "\n",
        "network7.compile(optimizer='rmsprop',\n",
        "                loss='sparse_categorical_crossentropy',\n",
        "                metrics=['accuracy'])\n",
        "history = network7.fit(train_images, train_labels, epochs=10, batch_size=32, verbose=1,validation_data=(val_images, valid_labels))\n",
        "\n",
        "# Evaluate the model on the test data\n",
        "test_loss, test_acc = network7.evaluate(test_images, test_labels)\n",
        "print('Test accuracy:', test_acc)\n"
      ],
      "metadata": {
        "colab": {
          "base_uri": "https://localhost:8080/"
        },
        "id": "wYW9O18QDpDc",
        "outputId": "0b5835bc-cdc0-4dbf-bf2d-be7317d07dbe"
      },
      "id": "wYW9O18QDpDc",
      "execution_count": null,
      "outputs": [
        {
          "output_type": "stream",
          "name": "stdout",
          "text": [
            "Model: \"sequential_16\"\n",
            "_________________________________________________________________\n",
            " Layer (type)                Output Shape              Param #   \n",
            "=================================================================\n",
            " flatten_15 (Flatten)        (None, 16384)             0         \n",
            "                                                                 \n",
            " dense_60 (Dense)            (None, 512)               8389120   \n",
            "                                                                 \n",
            " dropout_30 (Dropout)        (None, 512)               0         \n",
            "                                                                 \n",
            " dense_61 (Dense)            (None, 128)               65664     \n",
            "                                                                 \n",
            " dense_62 (Dense)            (None, 128)               16512     \n",
            "                                                                 \n",
            " dropout_31 (Dropout)        (None, 128)               0         \n",
            "                                                                 \n",
            " dense_63 (Dense)            (None, 6)                 774       \n",
            "                                                                 \n",
            "=================================================================\n",
            "Total params: 8472070 (32.32 MB)\n",
            "Trainable params: 8472070 (32.32 MB)\n",
            "Non-trainable params: 0 (0.00 Byte)\n",
            "_________________________________________________________________\n",
            "Epoch 1/10\n",
            "105/105 [==============================] - 11s 98ms/step - loss: 1.1730 - accuracy: 0.5250 - val_loss: 0.8264 - val_accuracy: 0.6587\n",
            "Epoch 2/10\n",
            "105/105 [==============================] - 10s 93ms/step - loss: 0.8218 - accuracy: 0.6571 - val_loss: 0.6497 - val_accuracy: 0.7158\n",
            "Epoch 3/10\n",
            "105/105 [==============================] - 10s 99ms/step - loss: 0.7371 - accuracy: 0.7107 - val_loss: 0.6585 - val_accuracy: 0.7127\n",
            "Epoch 4/10\n",
            "105/105 [==============================] - 10s 97ms/step - loss: 0.6827 - accuracy: 0.7351 - val_loss: 0.5474 - val_accuracy: 0.7977\n",
            "Epoch 5/10\n",
            "105/105 [==============================] - 10s 94ms/step - loss: 0.6350 - accuracy: 0.7664 - val_loss: 0.5252 - val_accuracy: 0.8029\n",
            "Epoch 6/10\n",
            "105/105 [==============================] - 10s 97ms/step - loss: 0.5959 - accuracy: 0.7756 - val_loss: 0.5465 - val_accuracy: 0.7728\n",
            "Epoch 7/10\n",
            "105/105 [==============================] - 9s 85ms/step - loss: 0.5667 - accuracy: 0.7923 - val_loss: 0.5527 - val_accuracy: 0.7759\n",
            "Epoch 8/10\n",
            "105/105 [==============================] - 14s 131ms/step - loss: 0.5318 - accuracy: 0.8161 - val_loss: 0.5166 - val_accuracy: 0.8174\n",
            "Epoch 9/10\n",
            "105/105 [==============================] - 13s 126ms/step - loss: 0.5208 - accuracy: 0.8149 - val_loss: 0.4940 - val_accuracy: 0.8164\n",
            "Epoch 10/10\n",
            "105/105 [==============================] - 9s 88ms/step - loss: 0.4855 - accuracy: 0.8324 - val_loss: 0.5786 - val_accuracy: 0.7697\n",
            "15/15 [==============================] - 0s 12ms/step - loss: 0.7063 - accuracy: 0.7563\n",
            "Test accuracy: 0.756302535533905\n"
          ]
        }
      ]
    },
    {
      "cell_type": "code",
      "source": [
        "# Generate predictions for the test data\n",
        "predictions = network7.predict(test_images)\n",
        "\n",
        "# Calculate the confusion matrix\n",
        "confusion_matrix = tf.math.confusion_matrix(\n",
        "    labels=test_labels,\n",
        "    predictions=tf.argmax(predictions, axis=1),\n",
        "    num_classes=num_classes\n",
        ")\n",
        "\n",
        "# Print the confusion matrix\n",
        "print('Confusion Matrix:')\n",
        "print(confusion_matrix.numpy())\n",
        "\n",
        "# Calculate class accuracies\n",
        "class_accuracies = []\n",
        "for i in range(num_classes):\n",
        "    true_positives = confusion_matrix[i, i]\n",
        "    total_samples = np.sum(confusion_matrix[i, :])\n",
        "    class_accuracy = true_positives / total_samples\n",
        "    class_accuracies.append(class_accuracy)\n",
        "\n",
        "# Print class accuracies\n",
        "for i, acc in enumerate(class_accuracies):\n",
        "    print(f'Accuracy for Lego block type {i}: {acc * 100:.2f}%')\n"
      ],
      "metadata": {
        "colab": {
          "base_uri": "https://localhost:8080/"
        },
        "id": "5tWktM5sg8IV",
        "outputId": "952deec9-495c-41d9-cd7e-b5aad31de9ab"
      },
      "id": "5tWktM5sg8IV",
      "execution_count": null,
      "outputs": [
        {
          "output_type": "stream",
          "name": "stdout",
          "text": [
            "15/15 [==============================] - 0s 14ms/step\n",
            "Confusion Matrix:\n",
            "[[26  0  0 16 44  0]\n",
            " [ 0 62  0  0 11  1]\n",
            " [ 0  6 48  0  3 16]\n",
            " [ 0  0  0 79  0  0]\n",
            " [ 1  1  0  4 76  0]\n",
            " [ 1  1  5  0  6 69]]\n",
            "Accuracy for Lego block type 0: 30.23%\n",
            "Accuracy for Lego block type 1: 83.78%\n",
            "Accuracy for Lego block type 2: 65.75%\n",
            "Accuracy for Lego block type 3: 100.00%\n",
            "Accuracy for Lego block type 4: 92.68%\n",
            "Accuracy for Lego block type 5: 84.15%\n"
          ]
        }
      ]
    },
    {
      "cell_type": "markdown",
      "id": "c71e267b",
      "metadata": {
        "id": "c71e267b"
      },
      "source": [
        "## Task 6\n",
        "\n",
        "The final step is to modify the network of **Task 5** to improve the accuracy as much as possible. When finished:\n",
        " - train your network for as many epochs as necessary for the accuracy to stop improving\n",
        " - compute the new overall accuracy on the test data and **compare** with that of **Task 5**\n",
        " - compute the new confusion matrix (use `tf.math.confusion_matrix()`) and **compare** with that of **Task 5**\n",
        " - using the confusion matrix, compute the new accuracy for each Lego block type and **compare** with that of **Task 5**\n"
      ]
    },
    {
      "cell_type": "code",
      "execution_count": null,
      "id": "d973c462",
      "metadata": {
        "id": "d973c462",
        "colab": {
          "base_uri": "https://localhost:8080/"
        },
        "outputId": "52999d07-2029-41b2-bc4f-e47f77d8543c"
      },
      "outputs": [
        {
          "output_type": "stream",
          "name": "stdout",
          "text": [
            "Model: \"sequential_17\"\n",
            "_________________________________________________________________\n",
            " Layer (type)                Output Shape              Param #   \n",
            "=================================================================\n",
            " flatten_16 (Flatten)        (None, 16384)             0         \n",
            "                                                                 \n",
            " dense_64 (Dense)            (None, 512)               8389120   \n",
            "                                                                 \n",
            " dropout_32 (Dropout)        (None, 512)               0         \n",
            "                                                                 \n",
            " dense_65 (Dense)            (None, 128)               65664     \n",
            "                                                                 \n",
            " dense_66 (Dense)            (None, 128)               16512     \n",
            "                                                                 \n",
            " dropout_33 (Dropout)        (None, 128)               0         \n",
            "                                                                 \n",
            " dense_67 (Dense)            (None, 6)                 774       \n",
            "                                                                 \n",
            "=================================================================\n",
            "Total params: 8472070 (32.32 MB)\n",
            "Trainable params: 8472070 (32.32 MB)\n",
            "Non-trainable params: 0 (0.00 Byte)\n",
            "_________________________________________________________________\n",
            "Epoch 1/22\n",
            "105/105 [==============================] - 12s 113ms/step - loss: 1.1618 - accuracy: 0.5104 - val_loss: 0.7625 - val_accuracy: 0.7116\n",
            "Epoch 2/22\n",
            "105/105 [==============================] - 14s 131ms/step - loss: 0.8307 - accuracy: 0.6610 - val_loss: 0.6490 - val_accuracy: 0.7469\n",
            "Epoch 3/22\n",
            "105/105 [==============================] - 9s 88ms/step - loss: 0.7340 - accuracy: 0.7039 - val_loss: 0.5876 - val_accuracy: 0.7790\n",
            "Epoch 4/22\n",
            "105/105 [==============================] - 8s 78ms/step - loss: 0.6790 - accuracy: 0.7360 - val_loss: 0.5940 - val_accuracy: 0.7739\n",
            "Epoch 5/22\n",
            "105/105 [==============================] - 9s 89ms/step - loss: 0.6331 - accuracy: 0.7685 - val_loss: 0.6088 - val_accuracy: 0.7593\n",
            "Epoch 6/22\n",
            "105/105 [==============================] - 9s 88ms/step - loss: 0.5955 - accuracy: 0.7878 - val_loss: 0.5154 - val_accuracy: 0.7894\n",
            "Epoch 7/22\n",
            "105/105 [==============================] - 10s 92ms/step - loss: 0.5764 - accuracy: 0.7970 - val_loss: 0.4962 - val_accuracy: 0.7905\n",
            "Epoch 8/22\n",
            "105/105 [==============================] - 9s 81ms/step - loss: 0.5382 - accuracy: 0.8092 - val_loss: 0.4641 - val_accuracy: 0.8288\n",
            "Epoch 9/22\n",
            "105/105 [==============================] - 9s 88ms/step - loss: 0.5322 - accuracy: 0.8125 - val_loss: 0.4353 - val_accuracy: 0.8444\n",
            "Epoch 10/22\n",
            "105/105 [==============================] - 10s 91ms/step - loss: 0.4861 - accuracy: 0.8280 - val_loss: 0.5116 - val_accuracy: 0.8122\n",
            "Epoch 11/22\n",
            "105/105 [==============================] - 9s 87ms/step - loss: 0.4859 - accuracy: 0.8313 - val_loss: 0.4198 - val_accuracy: 0.8558\n",
            "Epoch 12/22\n",
            "105/105 [==============================] - 11s 102ms/step - loss: 0.4618 - accuracy: 0.8399 - val_loss: 0.4037 - val_accuracy: 0.8402\n",
            "Epoch 13/22\n",
            "105/105 [==============================] - 9s 87ms/step - loss: 0.4469 - accuracy: 0.8449 - val_loss: 0.4452 - val_accuracy: 0.8579\n",
            "Epoch 14/22\n",
            "105/105 [==============================] - 9s 88ms/step - loss: 0.4339 - accuracy: 0.8527 - val_loss: 0.5145 - val_accuracy: 0.8226\n",
            "Epoch 15/22\n",
            "105/105 [==============================] - 9s 82ms/step - loss: 0.4166 - accuracy: 0.8533 - val_loss: 0.3824 - val_accuracy: 0.8828\n",
            "Epoch 16/22\n",
            "105/105 [==============================] - 9s 88ms/step - loss: 0.4081 - accuracy: 0.8571 - val_loss: 0.3962 - val_accuracy: 0.8610\n",
            "Epoch 17/22\n",
            "105/105 [==============================] - 9s 87ms/step - loss: 0.3990 - accuracy: 0.8658 - val_loss: 0.5598 - val_accuracy: 0.8133\n",
            "Epoch 18/22\n",
            "105/105 [==============================] - 9s 90ms/step - loss: 0.3805 - accuracy: 0.8664 - val_loss: 0.3841 - val_accuracy: 0.8766\n",
            "Epoch 19/22\n",
            "105/105 [==============================] - 9s 90ms/step - loss: 0.3704 - accuracy: 0.8744 - val_loss: 0.4018 - val_accuracy: 0.8683\n",
            "Epoch 20/22\n",
            "105/105 [==============================] - 9s 89ms/step - loss: 0.3697 - accuracy: 0.8741 - val_loss: 0.3656 - val_accuracy: 0.8817\n",
            "Epoch 21/22\n",
            "105/105 [==============================] - 9s 87ms/step - loss: 0.3688 - accuracy: 0.8762 - val_loss: 0.3691 - val_accuracy: 0.8849\n",
            "Epoch 22/22\n",
            "105/105 [==============================] - 9s 81ms/step - loss: 0.3644 - accuracy: 0.8789 - val_loss: 0.3941 - val_accuracy: 0.8797\n",
            "15/15 [==============================] - 0s 14ms/step - loss: 0.5111 - accuracy: 0.8592\n",
            "Test accuracy: 0.8592436909675598\n"
          ]
        }
      ],
      "source": [
        "from tensorflow.keras.layers import Flatten\n",
        "network71 = Sequential()\n",
        "network71.add(Flatten(input_shape=(128,128)))  # Flatten the input\n",
        "network71.add(Dense(512, activation='sigmoid'))\n",
        "network71.add(Dropout(0.5))\n",
        "network71.add(Dense(128, activation='sigmoid'))\n",
        "network71.add(Dense(128, activation='relu'))\n",
        "network71.add(Dropout(0.5))\n",
        "network71.add(Dense(num_classes, activation='softmax'))\n",
        "\n",
        "network71.summary()\n",
        "\n",
        "network71.compile(optimizer='rmsprop',\n",
        "                loss='sparse_categorical_crossentropy',\n",
        "                metrics=['accuracy'])\n",
        "history = network71.fit(train_images, train_labels, epochs=22, batch_size=32, verbose=1,validation_data=(val_images, valid_labels))\n",
        "\n",
        "# Evaluate the model on the test data\n",
        "test_loss, test_acc = network71.evaluate(test_images, test_labels)\n",
        "print('Test accuracy:', test_acc)\n"
      ]
    },
    {
      "cell_type": "code",
      "source": [
        "# Generate predictions for the test data\n",
        "predictions = network71.predict(test_images)\n",
        "\n",
        "# Calculate the confusion matrix\n",
        "confusion_matrix = tf.math.confusion_matrix(\n",
        "    labels=test_labels,\n",
        "    predictions=tf.argmax(predictions, axis=1),\n",
        "    num_classes=num_classes\n",
        ")\n",
        "\n",
        "# Print the confusion matrix\n",
        "print('Confusion Matrix:')\n",
        "print(confusion_matrix.numpy())\n",
        "\n",
        "# Calculate class accuracies\n",
        "class_accuracies = []\n",
        "for i in range(num_classes):\n",
        "    true_positives = confusion_matrix[i, i]\n",
        "    total_samples = np.sum(confusion_matrix[i, :])\n",
        "    class_accuracy = true_positives / total_samples\n",
        "    class_accuracies.append(class_accuracy)\n",
        "\n",
        "# Print class accuracies\n",
        "for i, acc in enumerate(class_accuracies):\n",
        "    print(f'Accuracy for Lego block type {i}: {acc * 100:.2f}%')\n"
      ],
      "metadata": {
        "colab": {
          "base_uri": "https://localhost:8080/"
        },
        "id": "sunncWdVcfPL",
        "outputId": "7abd8df0-047d-48e8-f92c-f38afa1da063"
      },
      "id": "sunncWdVcfPL",
      "execution_count": null,
      "outputs": [
        {
          "output_type": "stream",
          "name": "stdout",
          "text": [
            "15/15 [==============================] - 0s 11ms/step\n",
            "Confusion Matrix:\n",
            "[[74  0  0 11  1  0]\n",
            " [ 5 66  0  0  3  0]\n",
            " [ 1  7 50  0  0 15]\n",
            " [ 0  0  0 79  0  0]\n",
            " [10  0  0  4 68  0]\n",
            " [ 2  0  3  0  5 72]]\n",
            "Accuracy for Lego block type 0: 86.05%\n",
            "Accuracy for Lego block type 1: 89.19%\n",
            "Accuracy for Lego block type 2: 68.49%\n",
            "Accuracy for Lego block type 3: 100.00%\n",
            "Accuracy for Lego block type 4: 82.93%\n",
            "Accuracy for Lego block type 5: 87.80%\n"
          ]
        }
      ]
    },
    {
      "cell_type": "markdown",
      "id": "U5hE4rzNFz2t",
      "metadata": {
        "id": "U5hE4rzNFz2t"
      },
      "source": [
        "## Task 7  \n",
        "**Answer below questions:**\n",
        "\n",
        "1. Compare the model's performance on Tasks 5 and 6.\n",
        "\n",
        "In Task 5 the model achieved a test accuracy of approx 0.7563 and in task 6 it is around 0.8592. The model performed significantly better in Task 6 to make more accurate predictions. There is an improvement in the test accuracy and the overall accuracy and this means that the model is performing well to unseen data.\n",
        "\n",
        "2. Why do training accuracies stop improving after some epochs?\n",
        "\n",
        "The main reason for not showing any improvemnt in the training accuracy after some epochs is that the model will overfit after some iterations and the model might have learned most of the features from the data. Therefore increasing the epochs number after some point would not cause any improvements.\n",
        "\n",
        "3. Comment on your model's regularization technique and explain how it helps.\n",
        "\n",
        "In this model we have used dropout regularization to prevent overfitting with a rate of 0.5  and activation regularization i,e sigmoid and relu. It will prevent overfitting so that it will improve the models ability to generalize to unseen data. This technique contributes to the enhanced model performance and improve a higher test accuracy in neural networks.\n",
        "\n",
        "4. How does your model behave with respect to training data?\n",
        "\n",
        "There is an overall increase in the training accuracy and decrease in the loss. It suggests that the model is learning well from the training data and improving its ability to fit the training samples.\n",
        "\n",
        "5. Suggest some methods that can improve your model in Task 6.\n",
        "We can improve the models perfromance by implementing several reqularization technique,changing learning rate and optimizer,changing batch size and adjusting hyperparameters."
      ]
    }
  ],
  "metadata": {
    "colab": {
      "provenance": [],
      "include_colab_link": true
    },
    "kernelspec": {
      "display_name": "Python 3 (ipykernel)",
      "language": "python",
      "name": "python3"
    },
    "language_info": {
      "codemirror_mode": {
        "name": "ipython",
        "version": 3
      },
      "file_extension": ".py",
      "mimetype": "text/x-python",
      "name": "python",
      "nbconvert_exporter": "python",
      "pygments_lexer": "ipython3",
      "version": "3.9.16"
    }
  },
  "nbformat": 4,
  "nbformat_minor": 5
}